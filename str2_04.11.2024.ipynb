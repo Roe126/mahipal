{
 "cells": [
  {
   "cell_type": "code",
   "execution_count": null,
   "id": "aa2eed66-573c-41e9-b0ae-b84cd662ec94",
   "metadata": {},
   "outputs": [],
   "source": [
    "input() :\n",
    "to take input from user by defualt -- data type is in str\n",
    "\n",
    "str :\n",
    "same indexing pattern like list,tuple\n",
    "forward/positive:\n",
    "start=0,end=len-1\n",
    "\n",
    "negative/reverse:\n",
    "start=-1,end=-len\n",
    "\n"
   ]
  },
  {
   "cell_type": "code",
   "execution_count": 1,
   "id": "65735f68-df5d-434b-88ae-7efd3afd4556",
   "metadata": {},
   "outputs": [],
   "source": [
    "p = 'python'"
   ]
  },
  {
   "cell_type": "code",
   "execution_count": 3,
   "id": "6281b0f0-8ad4-4c8c-8350-801ab8bdf5c6",
   "metadata": {},
   "outputs": [
    {
     "data": {
      "text/plain": [
       "'PYTHON'"
      ]
     },
     "execution_count": 3,
     "metadata": {},
     "output_type": "execute_result"
    }
   ],
   "source": [
    "p.upper()"
   ]
  },
  {
   "cell_type": "code",
   "execution_count": 5,
   "id": "8e636434-9377-4711-9e31-67732915b48a",
   "metadata": {},
   "outputs": [],
   "source": [
    "p1 = 'JAVA'"
   ]
  },
  {
   "cell_type": "code",
   "execution_count": 7,
   "id": "bfb233c6-a6fc-416d-b956-b1d321717cac",
   "metadata": {},
   "outputs": [
    {
     "data": {
      "text/plain": [
       "'java'"
      ]
     },
     "execution_count": 7,
     "metadata": {},
     "output_type": "execute_result"
    }
   ],
   "source": [
    "p1.lower()"
   ]
  },
  {
   "cell_type": "code",
   "execution_count": 9,
   "id": "5e8be56c-1de6-44d7-9a3f-8c8c79828cc4",
   "metadata": {},
   "outputs": [
    {
     "data": {
      "text/plain": [
       "'JAVA'"
      ]
     },
     "execution_count": 9,
     "metadata": {},
     "output_type": "execute_result"
    }
   ],
   "source": [
    "p1"
   ]
  },
  {
   "cell_type": "code",
   "execution_count": 11,
   "id": "3d321dbf-0719-46b6-8cef-09b11646cbdd",
   "metadata": {},
   "outputs": [],
   "source": [
    "p = 'the python story'"
   ]
  },
  {
   "cell_type": "code",
   "execution_count": 13,
   "id": "e4a1718f-d8bd-4c16-b704-bd98ada96598",
   "metadata": {},
   "outputs": [
    {
     "data": {
      "text/plain": [
       "'The Python Story'"
      ]
     },
     "execution_count": 13,
     "metadata": {},
     "output_type": "execute_result"
    }
   ],
   "source": [
    "p.title()"
   ]
  },
  {
   "cell_type": "code",
   "execution_count": 15,
   "id": "655b4e6c-46ac-4205-a5af-deabd8867bf8",
   "metadata": {},
   "outputs": [
    {
     "data": {
      "text/plain": [
       "'The python story'"
      ]
     },
     "execution_count": 15,
     "metadata": {},
     "output_type": "execute_result"
    }
   ],
   "source": [
    "p.capitalize()"
   ]
  },
  {
   "cell_type": "code",
   "execution_count": 17,
   "id": "e3195a07-07a6-4ab3-99ce-065c83f3f5c3",
   "metadata": {},
   "outputs": [],
   "source": [
    "p = 'HadoOp'"
   ]
  },
  {
   "cell_type": "code",
   "execution_count": 19,
   "id": "f66d2507-d65a-44e1-bacd-6f562f1e7940",
   "metadata": {},
   "outputs": [
    {
     "data": {
      "text/plain": [
       "'hADOoP'"
      ]
     },
     "execution_count": 19,
     "metadata": {},
     "output_type": "execute_result"
    }
   ],
   "source": [
    "p.swapcase()"
   ]
  },
  {
   "cell_type": "code",
   "execution_count": 37,
   "id": "b77e205e-a5ec-43f5-bece-fc7fabadaea3",
   "metadata": {},
   "outputs": [],
   "source": [
    "p = 'python is strong in DS,python,python'"
   ]
  },
  {
   "cell_type": "code",
   "execution_count": 39,
   "id": "60755702-eb8b-45d5-963c-74f984b9a048",
   "metadata": {},
   "outputs": [
    {
     "data": {
      "text/plain": [
       "'java is strong in DS,java,java'"
      ]
     },
     "execution_count": 39,
     "metadata": {},
     "output_type": "execute_result"
    }
   ],
   "source": [
    "p.replace('python','java',-1)"
   ]
  },
  {
   "cell_type": "code",
   "execution_count": 41,
   "id": "9074ce0a-e643-43c7-8775-0f77f2d04ad5",
   "metadata": {},
   "outputs": [
    {
     "data": {
      "text/plain": [
       "'python is strong in DS,python,python'"
      ]
     },
     "execution_count": 41,
     "metadata": {},
     "output_type": "execute_result"
    }
   ],
   "source": [
    "p"
   ]
  },
  {
   "cell_type": "code",
   "execution_count": null,
   "id": "5045ad7a-e5ec-44fc-ad08-9ebb9d9eb74e",
   "metadata": {},
   "outputs": [],
   "source": [
    "find(word/substring):\n",
    "if substring found then it will return its startng index/positive index\n",
    "if not then it will return -1 "
   ]
  },
  {
   "cell_type": "code",
   "execution_count": 43,
   "id": "697277cc-aa6e-439a-a9e2-0d1ab71f184e",
   "metadata": {},
   "outputs": [
    {
     "data": {
      "text/plain": [
       "'python is strong in DS,python,python'"
      ]
     },
     "execution_count": 43,
     "metadata": {},
     "output_type": "execute_result"
    }
   ],
   "source": [
    "p"
   ]
  },
  {
   "cell_type": "code",
   "execution_count": 45,
   "id": "a7829957-3562-4926-b54d-6402aa10f22d",
   "metadata": {},
   "outputs": [
    {
     "data": {
      "text/plain": [
       "10"
      ]
     },
     "execution_count": 45,
     "metadata": {},
     "output_type": "execute_result"
    }
   ],
   "source": [
    "p.find('strong')"
   ]
  },
  {
   "cell_type": "code",
   "execution_count": 47,
   "id": "f7653e42-44f1-45cc-bbe6-27b553d3c80a",
   "metadata": {},
   "outputs": [
    {
     "data": {
      "text/plain": [
       "-1"
      ]
     },
     "execution_count": 47,
     "metadata": {},
     "output_type": "execute_result"
    }
   ],
   "source": [
    "p.find('ML')"
   ]
  },
  {
   "cell_type": "code",
   "execution_count": 51,
   "id": "401ebfa2-eacd-4faa-820e-1bb53a04a173",
   "metadata": {},
   "outputs": [
    {
     "name": "stdin",
     "output_type": "stream",
     "text": [
      "Enter the string : safsdf\n"
     ]
    },
    {
     "name": "stdout",
     "output_type": "stream",
     "text": [
      "Not Found\n"
     ]
    }
   ],
   "source": [
    "str1 = input(\"Enter the string :\")\n",
    "\n",
    "if p.find(str1)==-1:\n",
    "    print(\"Not Found\")\n",
    "else:\n",
    "    print(\"Found\")"
   ]
  },
  {
   "cell_type": "code",
   "execution_count": null,
   "id": "f354f2c4-1d91-44ce-850e-72d47802503e",
   "metadata": {},
   "outputs": [],
   "source": [
    "IMP:\n",
    "\n",
    "startswith\n",
    "endswith\n"
   ]
  },
  {
   "cell_type": "code",
   "execution_count": null,
   "id": "a027f77f-2664-4601-a113-98c7a35deb82",
   "metadata": {},
   "outputs": [],
   "source": [
    "startswith start  \n",
    "\n",
    "endswith end\n",
    "\n",
    "find -- middle complete"
   ]
  },
  {
   "cell_type": "code",
   "execution_count": 55,
   "id": "cb86908e-28a0-4420-a6e8-0cc0e422aff2",
   "metadata": {},
   "outputs": [],
   "source": [
    "e = 'test@gmail.com'"
   ]
  },
  {
   "cell_type": "code",
   "execution_count": 59,
   "id": "57fbc910-e7dc-4061-a742-b6dbd5e340f5",
   "metadata": {},
   "outputs": [
    {
     "data": {
      "text/plain": [
       "False"
      ]
     },
     "execution_count": 59,
     "metadata": {},
     "output_type": "execute_result"
    }
   ],
   "source": [
    "e.endswith('@gmaiy.com')"
   ]
  },
  {
   "cell_type": "code",
   "execution_count": 69,
   "id": "92a149b8-6649-4183-98da-842fb8db4acf",
   "metadata": {},
   "outputs": [],
   "source": [
    "file  = 'hadoop.pdf'"
   ]
  },
  {
   "cell_type": "code",
   "execution_count": 73,
   "id": "b7ddee13-eada-4a4b-9437-37c86995a4d2",
   "metadata": {},
   "outputs": [
    {
     "data": {
      "text/plain": [
       "True"
      ]
     },
     "execution_count": 73,
     "metadata": {},
     "output_type": "execute_result"
    }
   ],
   "source": [
    "file.endswith('.pdf')"
   ]
  },
  {
   "cell_type": "code",
   "execution_count": 75,
   "id": "16de0f27-8f2a-4974-b2ca-c1b3302da823",
   "metadata": {},
   "outputs": [],
   "source": [
    "files = 'copper_product.csv'"
   ]
  },
  {
   "cell_type": "code",
   "execution_count": 79,
   "id": "54ef6938-8222-422f-9fac-df4047ce1a7c",
   "metadata": {},
   "outputs": [
    {
     "data": {
      "text/plain": [
       "True"
      ]
     },
     "execution_count": 79,
     "metadata": {},
     "output_type": "execute_result"
    }
   ],
   "source": [
    "files.startswith('copper')"
   ]
  },
  {
   "cell_type": "code",
   "execution_count": null,
   "id": "e0522da1-4c03-4ced-b707-ecab699cfd78",
   "metadata": {},
   "outputs": [],
   "source": [
    "split(sep):   output --> list\n",
    "\n",
    "to break string on separator\n"
   ]
  },
  {
   "cell_type": "code",
   "execution_count": 81,
   "id": "d70fe757-2d17-4d6c-8631-8626e8b46d2c",
   "metadata": {},
   "outputs": [],
   "source": [
    "p = 'java#python#hadoop'"
   ]
  },
  {
   "cell_type": "code",
   "execution_count": 85,
   "id": "a9401e91-bb47-4c36-a988-273d63919496",
   "metadata": {},
   "outputs": [
    {
     "data": {
      "text/plain": [
       "'python'"
      ]
     },
     "execution_count": 85,
     "metadata": {},
     "output_type": "execute_result"
    }
   ],
   "source": [
    "p.split('#')[1]"
   ]
  },
  {
   "cell_type": "code",
   "execution_count": 89,
   "id": "2ae168ee-adfe-4e05-9c6f-fd265ddcae24",
   "metadata": {},
   "outputs": [],
   "source": [
    "p = 'the python story'"
   ]
  },
  {
   "cell_type": "code",
   "execution_count": 91,
   "id": "86dce4ca-59e8-461a-b8ad-3d6205382e4e",
   "metadata": {},
   "outputs": [
    {
     "data": {
      "text/plain": [
       "['the', 'python', 'story']"
      ]
     },
     "execution_count": 91,
     "metadata": {},
     "output_type": "execute_result"
    }
   ],
   "source": [
    "p.split()"
   ]
  },
  {
   "cell_type": "code",
   "execution_count": 97,
   "id": "b4a0ee66-b4d3-45e2-a969-4b58292a85a9",
   "metadata": {},
   "outputs": [
    {
     "data": {
      "text/plain": [
       "'test'"
      ]
     },
     "execution_count": 97,
     "metadata": {},
     "output_type": "execute_result"
    }
   ],
   "source": [
    "e.split('@')[0]"
   ]
  },
  {
   "cell_type": "code",
   "execution_count": 99,
   "id": "af43a78c-e3c7-4e5b-9cc3-0ba7a2fee0f3",
   "metadata": {},
   "outputs": [],
   "source": [
    "p = 'sfsadfsaf,sdfsdfsdf,sdfsdfdfsdfsdf'"
   ]
  },
  {
   "cell_type": "code",
   "execution_count": 101,
   "id": "3b05f4f7-d958-4b98-a66a-773549dff651",
   "metadata": {},
   "outputs": [
    {
     "data": {
      "text/plain": [
       "['sfsadfsaf', 'sdfsdfsdf', 'sdfsdfdfsdfsdf']"
      ]
     },
     "execution_count": 101,
     "metadata": {},
     "output_type": "execute_result"
    }
   ],
   "source": [
    "p.split(',')"
   ]
  },
  {
   "cell_type": "code",
   "execution_count": 103,
   "id": "3ed117f6-f60f-4268-9406-871363e8836d",
   "metadata": {},
   "outputs": [],
   "source": [
    "date = '01-12-2023'"
   ]
  },
  {
   "cell_type": "code",
   "execution_count": 105,
   "id": "6dd68693-dcd4-47cc-8c99-3a69f689cd9b",
   "metadata": {},
   "outputs": [],
   "source": [
    "day = date.split('-')[0]"
   ]
  },
  {
   "cell_type": "code",
   "execution_count": 107,
   "id": "4cb76802-51c7-494a-b579-ed51753fa923",
   "metadata": {},
   "outputs": [
    {
     "data": {
      "text/plain": [
       "'01'"
      ]
     },
     "execution_count": 107,
     "metadata": {},
     "output_type": "execute_result"
    }
   ],
   "source": [
    "day"
   ]
  },
  {
   "cell_type": "code",
   "execution_count": 109,
   "id": "a548ff39-4f60-4856-b243-86eab744838e",
   "metadata": {},
   "outputs": [],
   "source": [
    "month = date.split('-')[1]"
   ]
  },
  {
   "cell_type": "code",
   "execution_count": 111,
   "id": "ddd99501-9545-4733-b5ba-a74a0c52b3c8",
   "metadata": {},
   "outputs": [
    {
     "data": {
      "text/plain": [
       "'12'"
      ]
     },
     "execution_count": 111,
     "metadata": {},
     "output_type": "execute_result"
    }
   ],
   "source": [
    "month"
   ]
  },
  {
   "cell_type": "code",
   "execution_count": 113,
   "id": "708cec1f-d112-496e-a932-44afea73af8d",
   "metadata": {},
   "outputs": [],
   "source": [
    "year = date.split('-')[2]"
   ]
  },
  {
   "cell_type": "code",
   "execution_count": 115,
   "id": "4a8aee01-9902-45ed-9a18-24f643c9f9e5",
   "metadata": {},
   "outputs": [
    {
     "data": {
      "text/plain": [
       "'2023'"
      ]
     },
     "execution_count": 115,
     "metadata": {},
     "output_type": "execute_result"
    }
   ],
   "source": [
    "year"
   ]
  },
  {
   "cell_type": "code",
   "execution_count": null,
   "id": "82c5d4d2-3057-4c41-ab72-6e169529ca9d",
   "metadata": {},
   "outputs": [],
   "source": [
    "username : 'test@gmail.com     '"
   ]
  },
  {
   "cell_type": "code",
   "execution_count": null,
   "id": "1f72c3f7-e284-4141-a36c-082007139b8e",
   "metadata": {},
   "outputs": [],
   "source": [
    "'admin'\n",
    "\n",
    "\n",
    "'admin   '"
   ]
  },
  {
   "cell_type": "code",
   "execution_count": 117,
   "id": "acccd9e5-7e85-4a8a-a660-bd463604d181",
   "metadata": {},
   "outputs": [
    {
     "data": {
      "text/plain": [
       "False"
      ]
     },
     "execution_count": 117,
     "metadata": {},
     "output_type": "execute_result"
    }
   ],
   "source": [
    "'admin'=='admin  '"
   ]
  },
  {
   "cell_type": "code",
   "execution_count": 119,
   "id": "0b4a78ea-9d4c-44fb-a7ea-2cfdff471d07",
   "metadata": {},
   "outputs": [],
   "source": [
    "u = '     admin     '"
   ]
  },
  {
   "cell_type": "code",
   "execution_count": null,
   "id": "ad226d2b-cd23-422e-b7cb-89bd5f24faa6",
   "metadata": {},
   "outputs": [],
   "source": [
    "strip():\n",
    "to remove extra/white  spaces from end\n",
    "both -- strip()\n",
    "left  -- lstrip()\n",
    "right -- rstrip()"
   ]
  },
  {
   "cell_type": "code",
   "execution_count": 123,
   "id": "beb261fc-26b3-457e-b5b9-f10a2d8655a4",
   "metadata": {},
   "outputs": [
    {
     "data": {
      "text/plain": [
       "'admin'"
      ]
     },
     "execution_count": 123,
     "metadata": {},
     "output_type": "execute_result"
    }
   ],
   "source": [
    "u.strip()"
   ]
  },
  {
   "cell_type": "code",
   "execution_count": 127,
   "id": "949d04ce-ddfb-44d0-92c6-cd015be4a362",
   "metadata": {},
   "outputs": [
    {
     "data": {
      "text/plain": [
       "'admin     '"
      ]
     },
     "execution_count": 127,
     "metadata": {},
     "output_type": "execute_result"
    }
   ],
   "source": [
    "u.lstrip()"
   ]
  },
  {
   "cell_type": "code",
   "execution_count": 129,
   "id": "0549e227-40e0-4588-ab09-2be9a9fe572b",
   "metadata": {},
   "outputs": [
    {
     "data": {
      "text/plain": [
       "'     admin'"
      ]
     },
     "execution_count": 129,
     "metadata": {},
     "output_type": "execute_result"
    }
   ],
   "source": [
    "u.rstrip()"
   ]
  },
  {
   "cell_type": "code",
   "execution_count": 133,
   "id": "75b8202a-00e0-48d7-adef-9d6f8388c7c8",
   "metadata": {},
   "outputs": [],
   "source": [
    "p = 'reter ttret  tre ter t erte'"
   ]
  },
  {
   "cell_type": "code",
   "execution_count": 143,
   "id": "a314e9b6-9c07-4b9b-9f4b-91318a852ef2",
   "metadata": {},
   "outputs": [],
   "source": [
    "p = 'p y t h o n'"
   ]
  },
  {
   "cell_type": "code",
   "execution_count": 145,
   "id": "a644679f-5ded-4bd1-bb43-86fdc4d814c0",
   "metadata": {},
   "outputs": [
    {
     "data": {
      "text/plain": [
       "'python'"
      ]
     },
     "execution_count": 145,
     "metadata": {},
     "output_type": "execute_result"
    }
   ],
   "source": [
    "p.replace(' ','')"
   ]
  },
  {
   "cell_type": "code",
   "execution_count": 147,
   "id": "58fdeea4-0a31-4eea-9202-5424e79fc80f",
   "metadata": {},
   "outputs": [],
   "source": [
    "a = 100\n",
    "b = 200\n",
    "c =a+b"
   ]
  },
  {
   "cell_type": "code",
   "execution_count": null,
   "id": "701c9681-fdd2-4961-939b-8878c1c51e1f",
   "metadata": {},
   "outputs": [],
   "source": [
    "\"Addition of 10 and 20 is 30\""
   ]
  },
  {
   "cell_type": "code",
   "execution_count": null,
   "id": "11e9628f-391f-4c40-bc86-f44aac01228a",
   "metadata": {},
   "outputs": [],
   "source": [
    "dymanic content -- inject into string"
   ]
  },
  {
   "cell_type": "code",
   "execution_count": null,
   "id": "ce52df29-90e0-49d5-8262-7bfd212bba7e",
   "metadata": {},
   "outputs": [],
   "source": [
    "format\n",
    "f-raw string method"
   ]
  },
  {
   "cell_type": "code",
   "execution_count": 149,
   "id": "58b3606d-33f7-4796-be99-0eeb08e7bb16",
   "metadata": {},
   "outputs": [
    {
     "data": {
      "text/plain": [
       "10"
      ]
     },
     "execution_count": 149,
     "metadata": {},
     "output_type": "execute_result"
    }
   ],
   "source": [
    "a"
   ]
  },
  {
   "cell_type": "code",
   "execution_count": 151,
   "id": "4807665f-4f8e-41fc-8532-36f1d81b55c2",
   "metadata": {},
   "outputs": [
    {
     "data": {
      "text/plain": [
       "20"
      ]
     },
     "execution_count": 151,
     "metadata": {},
     "output_type": "execute_result"
    }
   ],
   "source": [
    "b"
   ]
  },
  {
   "cell_type": "code",
   "execution_count": 154,
   "id": "b7e7b602-5bc7-4483-9f09-e82badb84595",
   "metadata": {},
   "outputs": [
    {
     "data": {
      "text/plain": [
       "30"
      ]
     },
     "execution_count": 154,
     "metadata": {},
     "output_type": "execute_result"
    }
   ],
   "source": [
    "c"
   ]
  },
  {
   "cell_type": "code",
   "execution_count": 158,
   "id": "76988f36-5a51-4d06-8d17-af1af33a440b",
   "metadata": {},
   "outputs": [
    {
     "data": {
      "text/plain": [
       "'Addition of 45 and 67 is 112'"
      ]
     },
     "execution_count": 158,
     "metadata": {},
     "output_type": "execute_result"
    }
   ],
   "source": [
    "\"Addition of {} and {} is {}\".format(45,67,45+67)"
   ]
  },
  {
   "cell_type": "code",
   "execution_count": 160,
   "id": "a330a5ef-563e-4ac5-942e-fc82723841fb",
   "metadata": {},
   "outputs": [
    {
     "data": {
      "text/plain": [
       "'ML and AI are trending nowdays'"
      ]
     },
     "execution_count": 160,
     "metadata": {},
     "output_type": "execute_result"
    }
   ],
   "source": [
    "\"{} and {} are trending nowdays\".format(\"ML\",\"AI\")"
   ]
  },
  {
   "cell_type": "code",
   "execution_count": 162,
   "id": "515bf871-0018-4dc4-b56c-d2bfd3eb3a17",
   "metadata": {},
   "outputs": [
    {
     "data": {
      "text/plain": [
       "10"
      ]
     },
     "execution_count": 162,
     "metadata": {},
     "output_type": "execute_result"
    }
   ],
   "source": [
    "a"
   ]
  },
  {
   "cell_type": "code",
   "execution_count": 168,
   "id": "40fcc231-d588-4e44-bb4f-eb3451ac6d01",
   "metadata": {},
   "outputs": [
    {
     "data": {
      "text/plain": [
       "'Addition of 10 and 20 is 30'"
      ]
     },
     "execution_count": 168,
     "metadata": {},
     "output_type": "execute_result"
    }
   ],
   "source": [
    "f\"Addition of {a} and {b} is {c}\""
   ]
  },
  {
   "cell_type": "code",
   "execution_count": 166,
   "id": "07df737f-1014-4733-9f5e-32b9c92921f2",
   "metadata": {},
   "outputs": [
    {
     "data": {
      "text/plain": [
       "30"
      ]
     },
     "execution_count": 166,
     "metadata": {},
     "output_type": "execute_result"
    }
   ],
   "source": [
    "c"
   ]
  },
  {
   "cell_type": "code",
   "execution_count": 176,
   "id": "2ee652bb-613d-4376-8a45-4d1c930e4fcc",
   "metadata": {},
   "outputs": [
    {
     "name": "stdin",
     "output_type": "stream",
     "text": [
      "Enter the string : java\n"
     ]
    },
    {
     "name": "stdout",
     "output_type": "stream",
     "text": [
      "java --- > is Not Found\n"
     ]
    }
   ],
   "source": [
    "p = 'dfsdf fs f f f dsf sdaf sdf python'\n",
    "\n",
    "str1 = input(\"Enter the string :\")\n",
    "\n",
    "if p.find(str1)==-1:\n",
    "    print(\"{} --- > is Not Found\".format(str1))\n",
    "else:\n",
    "    print(f\"{str1} --- > is Found\")"
   ]
  },
  {
   "cell_type": "code",
   "execution_count": 178,
   "id": "16bef41f-e21f-44ed-9252-738c235e73d7",
   "metadata": {},
   "outputs": [
    {
     "data": {
      "text/plain": [
       "'dfsdf fs f f f dsf sdaf sdf python'"
      ]
     },
     "execution_count": 178,
     "metadata": {},
     "output_type": "execute_result"
    }
   ],
   "source": [
    "p"
   ]
  },
  {
   "cell_type": "code",
   "execution_count": 180,
   "id": "c240b8cd-eb23-4cab-b01d-ddbc044837bc",
   "metadata": {},
   "outputs": [],
   "source": [
    "p = 'java'"
   ]
  },
  {
   "cell_type": "code",
   "execution_count": 182,
   "id": "8dfd0778-350d-43fa-aea4-b172a7815719",
   "metadata": {},
   "outputs": [
    {
     "data": {
      "text/plain": [
       "'000000java'"
      ]
     },
     "execution_count": 182,
     "metadata": {},
     "output_type": "execute_result"
    }
   ],
   "source": [
    "p.zfill(10)"
   ]
  },
  {
   "cell_type": "code",
   "execution_count": null,
   "id": "ee64566d-4815-42d3-82ee-611f1e0f4bde",
   "metadata": {},
   "outputs": [],
   "source": [
    "' '\n",
    "a-z/A-Z - alpha\n",
    "'0-9' numeric\n",
    "'a-z/A-Z0-9' - alpha numeric"
   ]
  },
  {
   "cell_type": "code",
   "execution_count": 184,
   "id": "d092ba3c-c8e2-484e-bc1b-12c1c90f0fe2",
   "metadata": {},
   "outputs": [],
   "source": [
    "p = 'hadoop'"
   ]
  },
  {
   "cell_type": "code",
   "execution_count": 186,
   "id": "2f5b7286-3fd8-4187-8c3f-acfd73b64a3c",
   "metadata": {},
   "outputs": [
    {
     "data": {
      "text/plain": [
       "True"
      ]
     },
     "execution_count": 186,
     "metadata": {},
     "output_type": "execute_result"
    }
   ],
   "source": [
    "p.isalpha()"
   ]
  },
  {
   "cell_type": "code",
   "execution_count": null,
   "id": "d99684dc-7cf6-4a3f-b99e-1500ebc6fb8c",
   "metadata": {},
   "outputs": [],
   "source": [
    "is start ---> True/False"
   ]
  },
  {
   "cell_type": "code",
   "execution_count": 192,
   "id": "10775ea2-1efc-4cac-80a2-bdb510780386",
   "metadata": {},
   "outputs": [],
   "source": [
    "empid = '5435345sfewf'"
   ]
  },
  {
   "cell_type": "code",
   "execution_count": 194,
   "id": "361d138d-b46d-4924-8c69-6b976fb8a393",
   "metadata": {},
   "outputs": [
    {
     "data": {
      "text/plain": [
       "False"
      ]
     },
     "execution_count": 194,
     "metadata": {},
     "output_type": "execute_result"
    }
   ],
   "source": [
    "empid.isnumeric()"
   ]
  },
  {
   "cell_type": "code",
   "execution_count": 200,
   "id": "5bfd10e5-a897-472b-a590-54e41312118f",
   "metadata": {},
   "outputs": [],
   "source": [
    "product = 'copper443534@'"
   ]
  },
  {
   "cell_type": "code",
   "execution_count": 202,
   "id": "8e6b235a-40a0-406b-9cca-b70ff68f2983",
   "metadata": {},
   "outputs": [
    {
     "data": {
      "text/plain": [
       "False"
      ]
     },
     "execution_count": 202,
     "metadata": {},
     "output_type": "execute_result"
    }
   ],
   "source": [
    "product.isalnum()"
   ]
  },
  {
   "cell_type": "code",
   "execution_count": null,
   "id": "4b407e1c-c6a8-4e5a-824d-53fcce77b724",
   "metadata": {},
   "outputs": [],
   "source": [
    "numeric\n",
    "digit\n",
    "decimal\n",
    "\n",
    "explore"
   ]
  }
 ],
 "metadata": {
  "kernelspec": {
   "display_name": "Python 3 (ipykernel)",
   "language": "python",
   "name": "python3"
  },
  "language_info": {
   "codemirror_mode": {
    "name": "ipython",
    "version": 3
   },
   "file_extension": ".py",
   "mimetype": "text/x-python",
   "name": "python",
   "nbconvert_exporter": "python",
   "pygments_lexer": "ipython3",
   "version": "3.12.4"
  }
 },
 "nbformat": 4,
 "nbformat_minor": 5
}
