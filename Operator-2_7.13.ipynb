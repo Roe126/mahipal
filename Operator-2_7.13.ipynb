{
 "cells": [
  {
   "cell_type": "code",
   "execution_count": null,
   "id": "6ec3d708-4d9c-4e81-ab9c-41aac216c5fd",
   "metadata": {},
   "outputs": [],
   "source": [
    "input : p = 'copper-3435-PX5654-T-100-T500'\n",
    "\n",
    "\n",
    "ouput : 'copper-3435-PX5654-T-100-T-500-Total-600'"
   ]
  },
  {
   "cell_type": "code",
   "execution_count": 1,
   "id": "e872bd2b-c888-4c0d-a72c-aac55e725d76",
   "metadata": {},
   "outputs": [
    {
     "name": "stdin",
     "output_type": "stream",
     "text": [
      "Enter the prdid: copper-3435-PX5654-T100-T500\n"
     ]
    }
   ],
   "source": [
    "productid = input(\"Enter the prdid:\")"
   ]
  },
  {
   "cell_type": "code",
   "execution_count": 3,
   "id": "4bd8c524-8b6f-489a-95c8-59f55fdc130b",
   "metadata": {},
   "outputs": [
    {
     "data": {
      "text/plain": [
       "'copper-3435-PX5654-T100-T500'"
      ]
     },
     "execution_count": 3,
     "metadata": {},
     "output_type": "execute_result"
    }
   ],
   "source": [
    "productid"
   ]
  },
  {
   "cell_type": "code",
   "execution_count": 19,
   "id": "a846d6c3-68ca-4220-a189-751c0193c156",
   "metadata": {},
   "outputs": [
    {
     "data": {
      "text/plain": [
       "100"
      ]
     },
     "execution_count": 19,
     "metadata": {},
     "output_type": "execute_result"
    }
   ],
   "source": [
    "int(productid.split(\"-\")[3][1:])"
   ]
  },
  {
   "cell_type": "code",
   "execution_count": 17,
   "id": "abab4d07-cfa7-44b6-9ff7-efd82c9d0703",
   "metadata": {},
   "outputs": [
    {
     "data": {
      "text/plain": [
       "500"
      ]
     },
     "execution_count": 17,
     "metadata": {},
     "output_type": "execute_result"
    }
   ],
   "source": [
    "int(productid.split(\"-\")[-1][1:])"
   ]
  },
  {
   "cell_type": "code",
   "execution_count": 23,
   "id": "31e7e9d8-418d-4fd6-a131-a437e3b6ee6d",
   "metadata": {},
   "outputs": [
    {
     "data": {
      "text/plain": [
       "'copper-3435-PX5654-T100-T500-Total-600'"
      ]
     },
     "execution_count": 23,
     "metadata": {},
     "output_type": "execute_result"
    }
   ],
   "source": [
    "productid+\"-Total-{}\".format(int(productid.split(\"-\")[3][1:])+int(productid.split(\"-\")[-1][1:]))"
   ]
  },
  {
   "cell_type": "code",
   "execution_count": 29,
   "id": "538dd988-8a73-4c30-9dbf-91af353d8c78",
   "metadata": {},
   "outputs": [
    {
     "data": {
      "text/plain": [
       "5435345"
      ]
     },
     "execution_count": 29,
     "metadata": {},
     "output_type": "execute_result"
    }
   ],
   "source": [
    "int(\"SFSDFSDF@5435345@bzfbdfbdffd\".split(\"@\")[1])"
   ]
  },
  {
   "cell_type": "code",
   "execution_count": null,
   "id": "ce5b0b15-91af-40ed-853a-8a1f867bffb2",
   "metadata": {},
   "outputs": [],
   "source": [
    "Arithmetic Operator ,+,-,*,/,%,**,//"
   ]
  },
  {
   "cell_type": "code",
   "execution_count": null,
   "id": "fac2809c-eedb-4727-8a06-110871c5378e",
   "metadata": {},
   "outputs": [],
   "source": [
    "Conditional /Comparision Operator :  <,>,<=,>=,!=,=="
   ]
  },
  {
   "cell_type": "code",
   "execution_count": null,
   "id": "de70b5b7-f3dc-4071-8754-fce2e0ff4b76",
   "metadata": {},
   "outputs": [],
   "source": [
    "Logical Operator: # True or False\n"
   ]
  },
  {
   "cell_type": "code",
   "execution_count": 79,
   "id": "0d39aca0-99f2-424d-a770-4e41549200a5",
   "metadata": {},
   "outputs": [],
   "source": [
    "filename = 'copper_product_2024.pdf'"
   ]
  },
  {
   "cell_type": "code",
   "execution_count": null,
   "id": "f7ebd715-e558-46b0-aa44-7d85e57cdf94",
   "metadata": {},
   "outputs": [],
   "source": [
    "copper \n",
    "2024\n",
    "\n",
    "pdf- -- process"
   ]
  },
  {
   "cell_type": "code",
   "execution_count": 37,
   "id": "91bc07f4-529a-4050-90eb-1ba5ff48d230",
   "metadata": {},
   "outputs": [
    {
     "data": {
      "text/plain": [
       "False"
      ]
     },
     "execution_count": 37,
     "metadata": {},
     "output_type": "execute_result"
    }
   ],
   "source": [
    "filename.startswith('copper') and filename.endswith(\".csv\")"
   ]
  },
  {
   "cell_type": "code",
   "execution_count": 41,
   "id": "7529cf44-ca9d-41bc-a0ce-c10b7106e5bb",
   "metadata": {},
   "outputs": [
    {
     "data": {
      "text/plain": [
       "False"
      ]
     },
     "execution_count": 41,
     "metadata": {},
     "output_type": "execute_result"
    }
   ],
   "source": [
    "True and True and True and True and False"
   ]
  },
  {
   "cell_type": "code",
   "execution_count": 45,
   "id": "9b2fb9f0-8421-4ec2-be10-5c290dbdf3e2",
   "metadata": {},
   "outputs": [
    {
     "data": {
      "text/plain": [
       "True"
      ]
     },
     "execution_count": 45,
     "metadata": {},
     "output_type": "execute_result"
    }
   ],
   "source": [
    "False or False or False or True"
   ]
  },
  {
   "cell_type": "code",
   "execution_count": 49,
   "id": "fb883d5d-5812-461f-a76c-01789506bde0",
   "metadata": {},
   "outputs": [],
   "source": [
    "a = 43\n",
    "filename = 'silver.csv'\n",
    "year = 2024"
   ]
  },
  {
   "cell_type": "code",
   "execution_count": 53,
   "id": "40412e1d-3bd3-42b8-a28c-6cd3ffb5ceb0",
   "metadata": {},
   "outputs": [
    {
     "data": {
      "text/plain": [
       "False"
      ]
     },
     "execution_count": 53,
     "metadata": {},
     "output_type": "execute_result"
    }
   ],
   "source": [
    "a>50 and filename.endswith('.csv') and  year==2024"
   ]
  },
  {
   "cell_type": "code",
   "execution_count": 55,
   "id": "81a618f4-7ad0-4048-8818-f9bdc2587d0f",
   "metadata": {},
   "outputs": [
    {
     "data": {
      "text/plain": [
       "False"
      ]
     },
     "execution_count": 55,
     "metadata": {},
     "output_type": "execute_result"
    }
   ],
   "source": [
    "not True"
   ]
  },
  {
   "cell_type": "code",
   "execution_count": 57,
   "id": "6bfdaf3c-b9e5-4279-91bc-268df92cd555",
   "metadata": {},
   "outputs": [
    {
     "data": {
      "text/plain": [
       "True"
      ]
     },
     "execution_count": 57,
     "metadata": {},
     "output_type": "execute_result"
    }
   ],
   "source": [
    "not False"
   ]
  },
  {
   "cell_type": "code",
   "execution_count": null,
   "id": "d3a5197a-0e63-4c1f-85a6-3345b727c5e9",
   "metadata": {},
   "outputs": [],
   "source": [
    "and or not "
   ]
  },
  {
   "cell_type": "code",
   "execution_count": null,
   "id": "349500ec-0c0c-4844-8142-00e72cae99e8",
   "metadata": {},
   "outputs": [],
   "source": [
    "#membership operator -- > Group of values\n",
    "in \n",
    "not in"
   ]
  },
  {
   "cell_type": "code",
   "execution_count": 61,
   "id": "997811c9-2c57-45f1-9742-2d6a64c56399",
   "metadata": {},
   "outputs": [],
   "source": [
    "p = [54,23,54,23,54,34,]"
   ]
  },
  {
   "cell_type": "code",
   "execution_count": 65,
   "id": "1657298d-5a76-48f5-94ac-8cc3871403d0",
   "metadata": {},
   "outputs": [
    {
     "data": {
      "text/plain": [
       "True"
      ]
     },
     "execution_count": 65,
     "metadata": {},
     "output_type": "execute_result"
    }
   ],
   "source": [
    "54 in p"
   ]
  },
  {
   "cell_type": "code",
   "execution_count": 67,
   "id": "66723d6c-c739-4605-9e5b-e046df7ca4e3",
   "metadata": {},
   "outputs": [
    {
     "data": {
      "text/plain": [
       "False"
      ]
     },
     "execution_count": 67,
     "metadata": {},
     "output_type": "execute_result"
    }
   ],
   "source": [
    "23 not in p"
   ]
  },
  {
   "cell_type": "code",
   "execution_count": 69,
   "id": "37bda029-e7a0-482d-a1c4-2264320792a1",
   "metadata": {},
   "outputs": [
    {
     "data": {
      "text/plain": [
       "True"
      ]
     },
     "execution_count": 69,
     "metadata": {},
     "output_type": "execute_result"
    }
   ],
   "source": [
    "23 in p"
   ]
  },
  {
   "cell_type": "code",
   "execution_count": 75,
   "id": "b47adbb8-c724-4a4a-8cc8-75f92b3f96a6",
   "metadata": {},
   "outputs": [],
   "source": [
    "p = 'the python AI data science are most trending techs in 2024'"
   ]
  },
  {
   "cell_type": "code",
   "execution_count": 73,
   "id": "4d20acf7-89bf-441c-b9aa-6fcfc1300651",
   "metadata": {},
   "outputs": [
    {
     "data": {
      "text/plain": [
       "True"
      ]
     },
     "execution_count": 73,
     "metadata": {},
     "output_type": "execute_result"
    }
   ],
   "source": [
    "'most' in p"
   ]
  },
  {
   "cell_type": "code",
   "execution_count": 77,
   "id": "cadd4dc1-b483-48a8-a539-e918b7f23cc7",
   "metadata": {},
   "outputs": [
    {
     "data": {
      "text/plain": [
       "True"
      ]
     },
     "execution_count": 77,
     "metadata": {},
     "output_type": "execute_result"
    }
   ],
   "source": [
    "'2024' in p"
   ]
  },
  {
   "cell_type": "code",
   "execution_count": 81,
   "id": "4437711c-58da-46c5-9910-c5b5a30416f8",
   "metadata": {},
   "outputs": [
    {
     "data": {
      "text/plain": [
       "'copper_product_2024.pdf'"
      ]
     },
     "execution_count": 81,
     "metadata": {},
     "output_type": "execute_result"
    }
   ],
   "source": [
    "filename"
   ]
  },
  {
   "cell_type": "code",
   "execution_count": 83,
   "id": "622c60d3-c110-473e-ae4c-a2461f9e4d6a",
   "metadata": {},
   "outputs": [
    {
     "data": {
      "text/plain": [
       "True"
      ]
     },
     "execution_count": 83,
     "metadata": {},
     "output_type": "execute_result"
    }
   ],
   "source": [
    "filename.startswith('copper') and '2024' in filename and filename.endswith('.pdf')"
   ]
  },
  {
   "cell_type": "code",
   "execution_count": 85,
   "id": "eebfbdef-20aa-4111-a1d6-8c8a78c4038c",
   "metadata": {},
   "outputs": [],
   "source": [
    "#Assigment Operator"
   ]
  },
  {
   "cell_type": "code",
   "execution_count": 87,
   "id": "4e4fb466-d179-467b-af23-db6f216878c5",
   "metadata": {},
   "outputs": [],
   "source": [
    "test = 500"
   ]
  },
  {
   "cell_type": "code",
   "execution_count": null,
   "id": "44e0c69d-a8ef-4cb2-9e73-4449b2789d5e",
   "metadata": {},
   "outputs": [],
   "source": [
    "i++\n",
    "++i"
   ]
  },
  {
   "cell_type": "code",
   "execution_count": 89,
   "id": "4ccc632d-0588-4bc4-aceb-a4e28666afd6",
   "metadata": {},
   "outputs": [],
   "source": [
    "p = 100"
   ]
  },
  {
   "cell_type": "code",
   "execution_count": 91,
   "id": "0fc558e3-1815-40a8-aede-2bd290296ff6",
   "metadata": {},
   "outputs": [],
   "source": [
    "p = p+5"
   ]
  },
  {
   "cell_type": "code",
   "execution_count": 93,
   "id": "726c1ff4-da2e-4d3b-8590-85dc847deca6",
   "metadata": {},
   "outputs": [
    {
     "data": {
      "text/plain": [
       "105"
      ]
     },
     "execution_count": 93,
     "metadata": {},
     "output_type": "execute_result"
    }
   ],
   "source": [
    "p"
   ]
  },
  {
   "cell_type": "code",
   "execution_count": 111,
   "id": "028d5fa0-b8aa-4aa2-b7f3-176c6d7f9003",
   "metadata": {},
   "outputs": [],
   "source": [
    "p+=5"
   ]
  },
  {
   "cell_type": "code",
   "execution_count": 113,
   "id": "694c00ae-6228-4fb3-a618-933748c090f6",
   "metadata": {},
   "outputs": [
    {
     "data": {
      "text/plain": [
       "130"
      ]
     },
     "execution_count": 113,
     "metadata": {},
     "output_type": "execute_result"
    }
   ],
   "source": [
    "p"
   ]
  },
  {
   "cell_type": "code",
   "execution_count": 127,
   "id": "1a263bb1-2150-49cc-a8cb-bde80c55ae39",
   "metadata": {},
   "outputs": [],
   "source": [
    "p+=10"
   ]
  },
  {
   "cell_type": "code",
   "execution_count": 129,
   "id": "68d80d76-b69e-4815-b131-7bb01b970001",
   "metadata": {},
   "outputs": [
    {
     "data": {
      "text/plain": [
       "15"
      ]
     },
     "execution_count": 129,
     "metadata": {},
     "output_type": "execute_result"
    }
   ],
   "source": [
    "p"
   ]
  },
  {
   "cell_type": "code",
   "execution_count": 149,
   "id": "4b73c9cf-00a2-4ccc-9b1f-d1ef27031cc9",
   "metadata": {},
   "outputs": [],
   "source": [
    "p-=1"
   ]
  },
  {
   "cell_type": "code",
   "execution_count": 151,
   "id": "79630b90-d881-431d-baee-8dacd3f1964d",
   "metadata": {},
   "outputs": [
    {
     "data": {
      "text/plain": [
       "10"
      ]
     },
     "execution_count": 151,
     "metadata": {},
     "output_type": "execute_result"
    }
   ],
   "source": [
    "p"
   ]
  },
  {
   "cell_type": "code",
   "execution_count": 153,
   "id": "b10a0ac2-2aa3-4b30-926e-21e627938b13",
   "metadata": {},
   "outputs": [
    {
     "ename": "SyntaxError",
     "evalue": "invalid syntax (2098964285.py, line 1)",
     "output_type": "error",
     "traceback": [
      "\u001b[1;36m  Cell \u001b[1;32mIn[153], line 1\u001b[1;36m\u001b[0m\n\u001b[1;33m    p--\u001b[0m\n\u001b[1;37m       ^\u001b[0m\n\u001b[1;31mSyntaxError\u001b[0m\u001b[1;31m:\u001b[0m invalid syntax\n"
     ]
    }
   ],
   "source": [
    "p--"
   ]
  },
  {
   "cell_type": "code",
   "execution_count": null,
   "id": "28abe85f-9e5a-4038-909c-2ca43bc06930",
   "metadata": {},
   "outputs": [],
   "source": [
    "=\n",
    "+=\n",
    "-=\n",
    "*=\n",
    "/=\n",
    "**=\n",
    "//=\n",
    "%="
   ]
  },
  {
   "cell_type": "code",
   "execution_count": null,
   "id": "ec4d40b0-9f35-4322-985c-3ebfe40ea5a5",
   "metadata": {},
   "outputs": [],
   "source": [
    "=  vs ==\n",
    "value assign\n",
    "\n",
    "== -- > value based comprision"
   ]
  },
  {
   "cell_type": "code",
   "execution_count": 155,
   "id": "af2e38ca-0f30-416e-a3c1-530ae53f3c94",
   "metadata": {},
   "outputs": [],
   "source": [
    "#identity operator\n",
    "\n",
    "is ,not is"
   ]
  },
  {
   "cell_type": "code",
   "execution_count": 157,
   "id": "37556606-9895-4c0e-a487-a62956078164",
   "metadata": {},
   "outputs": [],
   "source": [
    "p = 10\n"
   ]
  },
  {
   "cell_type": "code",
   "execution_count": 159,
   "id": "4ba36b0c-842e-4ae6-8e80-704ff64a6250",
   "metadata": {},
   "outputs": [],
   "source": [
    "q = 10"
   ]
  },
  {
   "cell_type": "code",
   "execution_count": 161,
   "id": "9c29c817-1968-48c4-b3a6-ad0e76d16215",
   "metadata": {},
   "outputs": [
    {
     "data": {
      "text/plain": [
       "140736655080152"
      ]
     },
     "execution_count": 161,
     "metadata": {},
     "output_type": "execute_result"
    }
   ],
   "source": [
    "id(p)"
   ]
  },
  {
   "cell_type": "code",
   "execution_count": 163,
   "id": "fe7a8e5d-ddb4-4180-83f8-372483cc3b1d",
   "metadata": {},
   "outputs": [
    {
     "data": {
      "text/plain": [
       "140736655080152"
      ]
     },
     "execution_count": 163,
     "metadata": {},
     "output_type": "execute_result"
    }
   ],
   "source": [
    "id(q)"
   ]
  },
  {
   "cell_type": "code",
   "execution_count": 165,
   "id": "fb39a359-6ec8-4b6b-b064-c7fa9e2d225f",
   "metadata": {},
   "outputs": [
    {
     "data": {
      "text/plain": [
       "True"
      ]
     },
     "execution_count": 165,
     "metadata": {},
     "output_type": "execute_result"
    }
   ],
   "source": [
    "p == q"
   ]
  },
  {
   "cell_type": "code",
   "execution_count": 167,
   "id": "2d52783d-c704-4d6c-b090-2269542b272f",
   "metadata": {},
   "outputs": [
    {
     "data": {
      "text/plain": [
       "True"
      ]
     },
     "execution_count": 167,
     "metadata": {},
     "output_type": "execute_result"
    }
   ],
   "source": [
    "p is q"
   ]
  },
  {
   "cell_type": "code",
   "execution_count": null,
   "id": "1c29643a-fca5-452a-a1a6-49bb12030704",
   "metadata": {},
   "outputs": [],
   "source": [
    "==  - based on value\n",
    "\n",
    "is -- based on memory location"
   ]
  },
  {
   "cell_type": "code",
   "execution_count": 169,
   "id": "3821e396-460a-42c6-baf6-2946b46084b8",
   "metadata": {},
   "outputs": [],
   "source": [
    "a = 67"
   ]
  },
  {
   "cell_type": "code",
   "execution_count": 171,
   "id": "46b9deb7-0c35-47ff-8758-b41f217ae0fb",
   "metadata": {},
   "outputs": [
    {
     "data": {
      "text/plain": [
       "10"
      ]
     },
     "execution_count": 171,
     "metadata": {},
     "output_type": "execute_result"
    }
   ],
   "source": [
    "p"
   ]
  },
  {
   "cell_type": "code",
   "execution_count": 173,
   "id": "4f230d42-fa1d-47e5-9de8-5fd94b8eee32",
   "metadata": {},
   "outputs": [
    {
     "data": {
      "text/plain": [
       "False"
      ]
     },
     "execution_count": 173,
     "metadata": {},
     "output_type": "execute_result"
    }
   ],
   "source": [
    "a is p"
   ]
  },
  {
   "cell_type": "code",
   "execution_count": 175,
   "id": "0aadc6aa-1129-4e37-b8d1-4912038697be",
   "metadata": {},
   "outputs": [],
   "source": [
    "a = 5000"
   ]
  },
  {
   "cell_type": "code",
   "execution_count": 177,
   "id": "bd9a2e85-bc2e-4d25-b4b7-b7601b7e5216",
   "metadata": {},
   "outputs": [],
   "source": [
    "b = 5000"
   ]
  },
  {
   "cell_type": "code",
   "execution_count": 179,
   "id": "4caed66b-1ae2-4a85-a0c0-4f86a79c4aa9",
   "metadata": {},
   "outputs": [
    {
     "data": {
      "text/plain": [
       "True"
      ]
     },
     "execution_count": 179,
     "metadata": {},
     "output_type": "execute_result"
    }
   ],
   "source": [
    "a == b"
   ]
  },
  {
   "cell_type": "code",
   "execution_count": 181,
   "id": "6f77f1d5-0f03-4603-af3e-2de369c87bdc",
   "metadata": {},
   "outputs": [
    {
     "data": {
      "text/plain": [
       "False"
      ]
     },
     "execution_count": 181,
     "metadata": {},
     "output_type": "execute_result"
    }
   ],
   "source": [
    "a is b"
   ]
  },
  {
   "cell_type": "code",
   "execution_count": 183,
   "id": "59ad0e01-22bc-467f-9e10-2a2c9ebebd46",
   "metadata": {},
   "outputs": [
    {
     "data": {
      "text/plain": [
       "1897988100176"
      ]
     },
     "execution_count": 183,
     "metadata": {},
     "output_type": "execute_result"
    }
   ],
   "source": [
    "id(a)"
   ]
  },
  {
   "cell_type": "code",
   "execution_count": 185,
   "id": "0d76bfaf-cbb5-4822-b727-443bc04ba18a",
   "metadata": {},
   "outputs": [
    {
     "data": {
      "text/plain": [
       "1897988102064"
      ]
     },
     "execution_count": 185,
     "metadata": {},
     "output_type": "execute_result"
    }
   ],
   "source": [
    "id(b)"
   ]
  },
  {
   "cell_type": "code",
   "execution_count": 187,
   "id": "eeb63f3e-2379-42c6-b4e3-a414b525c345",
   "metadata": {},
   "outputs": [],
   "source": [
    "a = 50"
   ]
  },
  {
   "cell_type": "code",
   "execution_count": 189,
   "id": "7d1e44ff-e70c-4ab5-9f60-314254e4351c",
   "metadata": {},
   "outputs": [],
   "source": [
    "b = 50"
   ]
  },
  {
   "cell_type": "code",
   "execution_count": 191,
   "id": "97b52ada-4459-490f-867e-f7282302f402",
   "metadata": {},
   "outputs": [
    {
     "data": {
      "text/plain": [
       "True"
      ]
     },
     "execution_count": 191,
     "metadata": {},
     "output_type": "execute_result"
    }
   ],
   "source": [
    " a is b"
   ]
  },
  {
   "cell_type": "code",
   "execution_count": 193,
   "id": "518de84b-d0b4-4f36-89e6-ad137fd61152",
   "metadata": {},
   "outputs": [
    {
     "data": {
      "text/plain": [
       "True"
      ]
     },
     "execution_count": 193,
     "metadata": {},
     "output_type": "execute_result"
    }
   ],
   "source": [
    "a == b"
   ]
  },
  {
   "cell_type": "code",
   "execution_count": 195,
   "id": "c1bc74ce-7702-4df2-8b13-e4d697f9fe5d",
   "metadata": {},
   "outputs": [],
   "source": [
    "a = 10000"
   ]
  },
  {
   "cell_type": "code",
   "execution_count": 197,
   "id": "0b11c555-77c9-416c-8aae-d68d8471b84b",
   "metadata": {},
   "outputs": [],
   "source": [
    "b = 10000"
   ]
  },
  {
   "cell_type": "code",
   "execution_count": 199,
   "id": "816f152b-aa88-4459-a38f-271d2af55808",
   "metadata": {},
   "outputs": [
    {
     "data": {
      "text/plain": [
       "False"
      ]
     },
     "execution_count": 199,
     "metadata": {},
     "output_type": "execute_result"
    }
   ],
   "source": [
    "a is b"
   ]
  },
  {
   "cell_type": "code",
   "execution_count": 201,
   "id": "582da35e-f12d-42dd-a05e-4b910445823a",
   "metadata": {},
   "outputs": [],
   "source": [
    "a=b=90000"
   ]
  },
  {
   "cell_type": "code",
   "execution_count": 203,
   "id": "41ec98dd-4dc2-4d77-987a-4587eea82bde",
   "metadata": {},
   "outputs": [
    {
     "data": {
      "text/plain": [
       "1897988100176"
      ]
     },
     "execution_count": 203,
     "metadata": {},
     "output_type": "execute_result"
    }
   ],
   "source": [
    "id(a)"
   ]
  },
  {
   "cell_type": "code",
   "execution_count": 205,
   "id": "9e988d61-5296-4b01-b453-154c0751365b",
   "metadata": {},
   "outputs": [
    {
     "data": {
      "text/plain": [
       "1897988100176"
      ]
     },
     "execution_count": 205,
     "metadata": {},
     "output_type": "execute_result"
    }
   ],
   "source": [
    "id(b)"
   ]
  },
  {
   "cell_type": "code",
   "execution_count": null,
   "id": "65c05ec3-878d-4508-b58d-72aa41f4efc7",
   "metadata": {},
   "outputs": [],
   "source": [
    "==\n",
    "is "
   ]
  },
  {
   "cell_type": "code",
   "execution_count": null,
   "id": "90779add-793c-4ce6-ad28-1e7835fbc715",
   "metadata": {},
   "outputs": [],
   "source": [
    "bitwise operator & |\n",
    "ternary operator"
   ]
  },
  {
   "cell_type": "code",
   "execution_count": null,
   "id": "fa1e1f22-b4ee-4e95-af5f-321487679b9c",
   "metadata": {},
   "outputs": [],
   "source": [
    "number system\n",
    "1.binary 0-1 -2 \n",
    "2.octal 0-7  - 8\n",
    "3.decimal 0-9  -10\n",
    "4.hexadecimal - 0-9A-F -16"
   ]
  },
  {
   "cell_type": "code",
   "execution_count": 207,
   "id": "7268b6fe-c5ce-4262-bcf0-3961a091048e",
   "metadata": {},
   "outputs": [
    {
     "data": {
      "text/plain": [
       "0"
      ]
     },
     "execution_count": 207,
     "metadata": {},
     "output_type": "execute_result"
    }
   ],
   "source": [
    "10 & 5"
   ]
  },
  {
   "cell_type": "code",
   "execution_count": null,
   "id": "46d0f131-c140-4fa5-a708-f7270b5785bf",
   "metadata": {},
   "outputs": [],
   "source": [
    "Dec to Binary\n",
    "Binary to Decimal"
   ]
  },
  {
   "cell_type": "code",
   "execution_count": null,
   "id": "f2d38e82-cd73-47ca-9218-de594903df88",
   "metadata": {},
   "outputs": [],
   "source": [
    "daily --> decimal -0-9"
   ]
  },
  {
   "cell_type": "code",
   "execution_count": 209,
   "id": "da0974b6-adb4-4772-94d5-f075255d17be",
   "metadata": {},
   "outputs": [
    {
     "data": {
      "text/plain": [
       "7"
      ]
     },
     "execution_count": 209,
     "metadata": {},
     "output_type": "execute_result"
    }
   ],
   "source": [
    "15 & 7"
   ]
  },
  {
   "cell_type": "code",
   "execution_count": null,
   "id": "f00152b8-cbad-419c-832d-98ee79d62100",
   "metadata": {},
   "outputs": [],
   "source": []
  }
 ],
 "metadata": {
  "kernelspec": {
   "display_name": "Python 3 (ipykernel)",
   "language": "python",
   "name": "python3"
  },
  "language_info": {
   "codemirror_mode": {
    "name": "ipython",
    "version": 3
   },
   "file_extension": ".py",
   "mimetype": "text/x-python",
   "name": "python",
   "nbconvert_exporter": "python",
   "pygments_lexer": "ipython3",
   "version": "3.12.4"
  }
 },
 "nbformat": 4,
 "nbformat_minor": 5
}
