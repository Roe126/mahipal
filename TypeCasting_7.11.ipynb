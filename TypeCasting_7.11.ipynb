{
 "cells": [
  {
   "cell_type": "code",
   "execution_count": null,
   "id": "9592f1ee-8a3d-4766-a1e6-ae05cd7e0c74",
   "metadata": {},
   "outputs": [],
   "source": [
    "Type Casting:\n",
    "\n",
    "Change DT|DS to another DT|DS"
   ]
  },
  {
   "cell_type": "code",
   "execution_count": 1,
   "id": "17659862-418e-48e7-86f0-a347548a431c",
   "metadata": {},
   "outputs": [],
   "source": [
    "a = '34'"
   ]
  },
  {
   "cell_type": "code",
   "execution_count": 3,
   "id": "1ea35108-f574-4624-aef2-fb7761cb9336",
   "metadata": {},
   "outputs": [
    {
     "data": {
      "text/plain": [
       "str"
      ]
     },
     "execution_count": 3,
     "metadata": {},
     "output_type": "execute_result"
    }
   ],
   "source": [
    "type(a)"
   ]
  },
  {
   "cell_type": "code",
   "execution_count": 7,
   "id": "e902c6d3-6a73-454e-af95-5119d4b9af32",
   "metadata": {},
   "outputs": [],
   "source": [
    "a = int(a)"
   ]
  },
  {
   "cell_type": "code",
   "execution_count": 9,
   "id": "91f95b1c-cc4b-4b9e-9608-abd11576083b",
   "metadata": {},
   "outputs": [
    {
     "data": {
      "text/plain": [
       "34"
      ]
     },
     "execution_count": 9,
     "metadata": {},
     "output_type": "execute_result"
    }
   ],
   "source": [
    "a"
   ]
  },
  {
   "cell_type": "code",
   "execution_count": 11,
   "id": "f0db9db7-4dec-41d7-a8cb-edd4114ece1a",
   "metadata": {},
   "outputs": [
    {
     "data": {
      "text/plain": [
       "int"
      ]
     },
     "execution_count": 11,
     "metadata": {},
     "output_type": "execute_result"
    }
   ],
   "source": [
    "type(a)"
   ]
  },
  {
   "cell_type": "code",
   "execution_count": 15,
   "id": "7520613a-cad1-44d8-96d6-9d0ebf6a1d9c",
   "metadata": {},
   "outputs": [
    {
     "name": "stdin",
     "output_type": "stream",
     "text": [
      "Enter the number: 10\n",
      "Enter the second number: 20\n"
     ]
    },
    {
     "name": "stdout",
     "output_type": "stream",
     "text": [
      "30\n"
     ]
    }
   ],
   "source": [
    "no1 = int(input(\"Enter the number:\"))\n",
    "no2 = int(input(\"Enter the second number:\"))\n",
    "result  = no1+no2\n",
    "print(result)"
   ]
  },
  {
   "cell_type": "code",
   "execution_count": 17,
   "id": "38ba14dc-66d6-4486-b671-9414daefb02e",
   "metadata": {},
   "outputs": [],
   "source": [
    "a = 45.75"
   ]
  },
  {
   "cell_type": "code",
   "execution_count": 19,
   "id": "72cd1301-defc-4690-94eb-e0fd0c2efee3",
   "metadata": {},
   "outputs": [
    {
     "data": {
      "text/plain": [
       "45"
      ]
     },
     "execution_count": 19,
     "metadata": {},
     "output_type": "execute_result"
    }
   ],
   "source": [
    "int(a)"
   ]
  },
  {
   "cell_type": "code",
   "execution_count": 21,
   "id": "a8a6dc32-0e1b-48c2-8c09-12b3a4f667b3",
   "metadata": {},
   "outputs": [],
   "source": [
    "p = 45"
   ]
  },
  {
   "cell_type": "code",
   "execution_count": 23,
   "id": "2b27cf24-c8a4-415b-b410-9679da151c73",
   "metadata": {},
   "outputs": [
    {
     "data": {
      "text/plain": [
       "'45.75'"
      ]
     },
     "execution_count": 23,
     "metadata": {},
     "output_type": "execute_result"
    }
   ],
   "source": [
    "str(a)"
   ]
  },
  {
   "cell_type": "code",
   "execution_count": null,
   "id": "9feff4bb-5e41-4c15-9a47-9e8ca308ea27",
   "metadata": {},
   "outputs": [],
   "source": [
    "int --> str --> float\n",
    "str --> int\n"
   ]
  },
  {
   "cell_type": "code",
   "execution_count": 25,
   "id": "d246a3e2-6af1-495d-93ac-e655737c0da4",
   "metadata": {},
   "outputs": [],
   "source": [
    "t ='45.8'"
   ]
  },
  {
   "cell_type": "code",
   "execution_count": 27,
   "id": "b11da27e-63a1-42a0-bb15-1bef8e16aa3a",
   "metadata": {},
   "outputs": [
    {
     "ename": "ValueError",
     "evalue": "invalid literal for int() with base 10: '45.8'",
     "output_type": "error",
     "traceback": [
      "\u001b[1;31m---------------------------------------------------------------------------\u001b[0m",
      "\u001b[1;31mValueError\u001b[0m                                Traceback (most recent call last)",
      "Cell \u001b[1;32mIn[27], line 1\u001b[0m\n\u001b[1;32m----> 1\u001b[0m \u001b[38;5;28mint\u001b[39m(t)\n",
      "\u001b[1;31mValueError\u001b[0m: invalid literal for int() with base 10: '45.8'"
     ]
    }
   ],
   "source": [
    "int(t)"
   ]
  },
  {
   "cell_type": "code",
   "execution_count": null,
   "id": "e16ef2c4-3f80-462d-b67a-9f5ba4d5c3b4",
   "metadata": {},
   "outputs": [],
   "source": [
    "str - float -- int"
   ]
  },
  {
   "cell_type": "code",
   "execution_count": 29,
   "id": "c78e6cfd-0813-49e1-ab39-7d541cdb5122",
   "metadata": {},
   "outputs": [
    {
     "data": {
      "text/plain": [
       "45"
      ]
     },
     "execution_count": 29,
     "metadata": {},
     "output_type": "execute_result"
    }
   ],
   "source": [
    "p"
   ]
  },
  {
   "cell_type": "code",
   "execution_count": 31,
   "id": "f8b18cac-e598-4d2d-b3b3-612ec579a25d",
   "metadata": {},
   "outputs": [],
   "source": [
    "p = '34.75'"
   ]
  },
  {
   "cell_type": "code",
   "execution_count": 39,
   "id": "afc53c20-c812-4597-b7ba-164adf2c1afc",
   "metadata": {},
   "outputs": [
    {
     "data": {
      "text/plain": [
       "4"
      ]
     },
     "execution_count": 39,
     "metadata": {},
     "output_type": "execute_result"
    }
   ],
   "source": [
    "int(str(int(float(p)))[1])"
   ]
  },
  {
   "cell_type": "code",
   "execution_count": 41,
   "id": "d21d0a96-7853-4299-92b8-e9e0036c90a2",
   "metadata": {},
   "outputs": [],
   "source": [
    "p = [43,76,3,75,23,6,4]"
   ]
  },
  {
   "cell_type": "code",
   "execution_count": 45,
   "id": "4f487bb0-6981-4dc4-b47a-0e58e3f20f6b",
   "metadata": {},
   "outputs": [],
   "source": [
    "p = tuple(p)"
   ]
  },
  {
   "cell_type": "code",
   "execution_count": 47,
   "id": "79f790cc-fa35-442a-81fa-5d724d8f695f",
   "metadata": {},
   "outputs": [
    {
     "data": {
      "text/plain": [
       "(43, 76, 3, 75, 23, 6, 4)"
      ]
     },
     "execution_count": 47,
     "metadata": {},
     "output_type": "execute_result"
    }
   ],
   "source": [
    "p"
   ]
  },
  {
   "cell_type": "code",
   "execution_count": 49,
   "id": "63649214-3de6-4121-9bb6-2eeb7e6c98e2",
   "metadata": {},
   "outputs": [],
   "source": [
    "p = [45,745,234,]"
   ]
  },
  {
   "cell_type": "code",
   "execution_count": 51,
   "id": "b742c735-cb11-4959-8a83-b33d6c7c6f4f",
   "metadata": {},
   "outputs": [
    {
     "data": {
      "text/plain": [
       "{45, 234, 745}"
      ]
     },
     "execution_count": 51,
     "metadata": {},
     "output_type": "execute_result"
    }
   ],
   "source": [
    "set(p)"
   ]
  },
  {
   "cell_type": "code",
   "execution_count": 53,
   "id": "1a739672-67f3-4ce5-b0cc-5b9851dea9ab",
   "metadata": {},
   "outputs": [],
   "source": [
    "d = {'id':55,'name':'sdfdsf'}"
   ]
  },
  {
   "cell_type": "code",
   "execution_count": 61,
   "id": "de17c57a-f76c-430b-800a-ec2ea93e6515",
   "metadata": {},
   "outputs": [
    {
     "data": {
      "text/plain": [
       "[55, 'sdfdsf']"
      ]
     },
     "execution_count": 61,
     "metadata": {},
     "output_type": "execute_result"
    }
   ],
   "source": [
    "list(d.values())"
   ]
  },
  {
   "cell_type": "code",
   "execution_count": 63,
   "id": "86f0a2c0-5296-4211-85b2-6dffe46cdc8f",
   "metadata": {},
   "outputs": [
    {
     "data": {
      "text/plain": [
       "['id', 'name']"
      ]
     },
     "execution_count": 63,
     "metadata": {},
     "output_type": "execute_result"
    }
   ],
   "source": [
    "list(d.keys())"
   ]
  },
  {
   "cell_type": "code",
   "execution_count": 65,
   "id": "7e00b9a1-02fd-4897-a3c5-b35388f8a298",
   "metadata": {},
   "outputs": [
    {
     "data": {
      "text/plain": [
       "[('id', 55), ('name', 'sdfdsf')]"
      ]
     },
     "execution_count": 65,
     "metadata": {},
     "output_type": "execute_result"
    }
   ],
   "source": [
    "list(d.items())"
   ]
  },
  {
   "cell_type": "code",
   "execution_count": null,
   "id": "f694deb5-3b06-4c55-a2c6-fd4a279b6d46",
   "metadata": {},
   "outputs": [],
   "source": [
    "list -- tuple - set \n"
   ]
  },
  {
   "cell_type": "code",
   "execution_count": 67,
   "id": "28bffe1c-f960-4f2d-939f-74d6c0198dd0",
   "metadata": {},
   "outputs": [],
   "source": [
    "p = [54,7,34,64,6]"
   ]
  },
  {
   "cell_type": "code",
   "execution_count": 71,
   "id": "3b895056-4815-4e95-9981-af4f08116887",
   "metadata": {},
   "outputs": [
    {
     "data": {
      "text/plain": [
       "'5'"
      ]
     },
     "execution_count": 71,
     "metadata": {},
     "output_type": "execute_result"
    }
   ],
   "source": [
    "str(p)[1]"
   ]
  },
  {
   "cell_type": "code",
   "execution_count": null,
   "id": "c612550c-394e-4479-9d95-017fa9d6829d",
   "metadata": {},
   "outputs": [],
   "source": [
    "can we insert new element into tuple?\n",
    "No,but we can use type casting "
   ]
  },
  {
   "cell_type": "code",
   "execution_count": 73,
   "id": "d79d228a-659c-4f86-b761-0b08fdefb5a3",
   "metadata": {},
   "outputs": [],
   "source": [
    "p = (3,5,23,64,6)"
   ]
  },
  {
   "cell_type": "code",
   "execution_count": 81,
   "id": "ca3aec5f-f63e-496d-9e42-df7894ea8ea0",
   "metadata": {},
   "outputs": [],
   "source": [
    "p = list(p)"
   ]
  },
  {
   "cell_type": "code",
   "execution_count": 85,
   "id": "f8a6060e-d222-4c02-9b69-033411467ca4",
   "metadata": {},
   "outputs": [],
   "source": [
    "p.append(100)"
   ]
  },
  {
   "cell_type": "code",
   "execution_count": 91,
   "id": "cfc1ad16-13aa-4da2-83a4-576856c9a351",
   "metadata": {},
   "outputs": [],
   "source": [
    "p = tuple(p)"
   ]
  },
  {
   "cell_type": "code",
   "execution_count": 93,
   "id": "03013dbe-f325-42de-bf23-2a966bb3d16c",
   "metadata": {},
   "outputs": [
    {
     "data": {
      "text/plain": [
       "(3, 5, 23, 64, 6, 100)"
      ]
     },
     "execution_count": 93,
     "metadata": {},
     "output_type": "execute_result"
    }
   ],
   "source": [
    "p"
   ]
  },
  {
   "cell_type": "code",
   "execution_count": 95,
   "id": "378ee10d-a5b0-4c1c-80c4-b71176c0d564",
   "metadata": {},
   "outputs": [],
   "source": [
    "u = ('admin','admin@123')"
   ]
  },
  {
   "cell_type": "code",
   "execution_count": 99,
   "id": "062314ec-af48-4f6c-a98f-e8e221b62fad",
   "metadata": {},
   "outputs": [],
   "source": [
    "u = list(u)"
   ]
  },
  {
   "cell_type": "code",
   "execution_count": 101,
   "id": "c0597cde-34a7-4a35-92c0-0cd8f42eb60f",
   "metadata": {},
   "outputs": [],
   "source": [
    "u[1] = 'admin@456'"
   ]
  },
  {
   "cell_type": "code",
   "execution_count": 103,
   "id": "e2420487-b8c5-434b-8751-0853af6d7c58",
   "metadata": {},
   "outputs": [
    {
     "data": {
      "text/plain": [
       "['admin', 'admin@456']"
      ]
     },
     "execution_count": 103,
     "metadata": {},
     "output_type": "execute_result"
    }
   ],
   "source": [
    "u"
   ]
  },
  {
   "cell_type": "code",
   "execution_count": 107,
   "id": "55f02552-aed2-46e2-a0b7-493cbe5347b9",
   "metadata": {},
   "outputs": [],
   "source": [
    "u = tuple(u)"
   ]
  },
  {
   "cell_type": "code",
   "execution_count": 109,
   "id": "30e43df3-fdf6-4c05-a86d-4f04d5a0fd51",
   "metadata": {},
   "outputs": [
    {
     "data": {
      "text/plain": [
       "('admin', 'admin@456')"
      ]
     },
     "execution_count": 109,
     "metadata": {},
     "output_type": "execute_result"
    }
   ],
   "source": [
    "u"
   ]
  },
  {
   "cell_type": "code",
   "execution_count": 111,
   "id": "e0005d34-65b1-435c-bdab-ac5e099b9919",
   "metadata": {},
   "outputs": [],
   "source": [
    "p = [2,65,86,34,7,5,345,86,4,57,5]"
   ]
  },
  {
   "cell_type": "code",
   "execution_count": 117,
   "id": "597f8a5c-4aa9-40ef-8633-0bcebe275fa7",
   "metadata": {},
   "outputs": [],
   "source": [
    "p = list(set(p))"
   ]
  },
  {
   "cell_type": "code",
   "execution_count": 119,
   "id": "c61826bd-4159-4464-9151-ba14ec1e8887",
   "metadata": {},
   "outputs": [
    {
     "data": {
      "text/plain": [
       "[65, 2, 34, 4, 5, 7, 86, 345, 57]"
      ]
     },
     "execution_count": 119,
     "metadata": {},
     "output_type": "execute_result"
    }
   ],
   "source": [
    "p"
   ]
  },
  {
   "cell_type": "code",
   "execution_count": null,
   "id": "533567c2-3c8e-4e10-b7d9-c32545e7c099",
   "metadata": {},
   "outputs": [],
   "source": [
    "interview ?\n",
    "\n",
    "duplicate\n",
    "\n",
    "\n",
    "count "
   ]
  },
  {
   "cell_type": "code",
   "execution_count": 121,
   "id": "dea28691-beef-44d6-b115-a41d366202f4",
   "metadata": {},
   "outputs": [
    {
     "data": {
      "text/plain": [
       "[65, 2, 34, 4, 5, 7, 86, 345, 57]"
      ]
     },
     "execution_count": 121,
     "metadata": {},
     "output_type": "execute_result"
    }
   ],
   "source": [
    "p"
   ]
  },
  {
   "cell_type": "code",
   "execution_count": 123,
   "id": "060017b7-eec8-4ad1-8c47-38060d6a4ccf",
   "metadata": {},
   "outputs": [
    {
     "data": {
      "text/plain": [
       "605"
      ]
     },
     "execution_count": 123,
     "metadata": {},
     "output_type": "execute_result"
    }
   ],
   "source": [
    "sum(p)"
   ]
  },
  {
   "cell_type": "code",
   "execution_count": 127,
   "id": "6aaf58f5-f561-469a-86d5-f54ce7805b6f",
   "metadata": {},
   "outputs": [],
   "source": [
    "input : p = 'copper-3435-PX5654-T100-T500'"
   ]
  },
  {
   "cell_type": "code",
   "execution_count": null,
   "id": "3bd79e77-c391-4925-b648-cabd15e9060f",
   "metadata": {},
   "outputs": [],
   "source": [
    "ouput : 'copper-3435-PX5654-T-100-T-500-Total-600'"
   ]
  }
 ],
 "metadata": {
  "kernelspec": {
   "display_name": "Python 3 (ipykernel)",
   "language": "python",
   "name": "python3"
  },
  "language_info": {
   "codemirror_mode": {
    "name": "ipython",
    "version": 3
   },
   "file_extension": ".py",
   "mimetype": "text/x-python",
   "name": "python",
   "nbconvert_exporter": "python",
   "pygments_lexer": "ipython3",
   "version": "3.12.4"
  }
 },
 "nbformat": 4,
 "nbformat_minor": 5
}
