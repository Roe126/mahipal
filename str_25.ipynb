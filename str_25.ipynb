{
 "cells": [
  {
   "cell_type": "code",
   "execution_count": null,
   "id": "11660788-f005-46ac-ac97-e67a15cf34ef",
   "metadata": {},
   "outputs": [],
   "source": [
    "str:\n",
    "it is collection of chars arranged in some meaningfull order\n",
    "it is immutable type\n",
    "it is zero based index DS\n"
   ]
  },
  {
   "cell_type": "code",
   "execution_count": null,
   "id": "35f304db-1b1f-4f8a-8145-2eac16ab4790",
   "metadata": {},
   "outputs": [],
   "source": []
  },
  {
   "cell_type": "code",
   "execution_count": 1,
   "id": "e1b4c4ea-fa87-4bdf-8d5e-56a6309916e6",
   "metadata": {},
   "outputs": [],
   "source": [
    "p = 'Python'"
   ]
  },
  {
   "cell_type": "code",
   "execution_count": 3,
   "id": "fc26caf7-ecb7-47d8-b646-91ba881f1e6e",
   "metadata": {},
   "outputs": [
    {
     "data": {
      "text/plain": [
       "'t'"
      ]
     },
     "execution_count": 3,
     "metadata": {},
     "output_type": "execute_result"
    }
   ],
   "source": [
    "p[2]"
   ]
  },
  {
   "cell_type": "code",
   "execution_count": null,
   "id": "7fcd0a26-cd81-42a2-a971-7e90ba107f8e",
   "metadata": {},
   "outputs": [],
   "source": [
    "p[start:stop+1]"
   ]
  },
  {
   "cell_type": "code",
   "execution_count": 5,
   "id": "b0be6abb-821c-4d11-83fc-d26488b5a062",
   "metadata": {},
   "outputs": [
    {
     "data": {
      "text/plain": [
       "'th'"
      ]
     },
     "execution_count": 5,
     "metadata": {},
     "output_type": "execute_result"
    }
   ],
   "source": [
    "p[2:4] #slicing"
   ]
  },
  {
   "cell_type": "code",
   "execution_count": 7,
   "id": "66ec8ba7-8f28-41c2-8b5a-b47aea77d8a9",
   "metadata": {},
   "outputs": [],
   "source": [
    "p = 'PX43435353GL'\n",
    "\n"
   ]
  },
  {
   "cell_type": "code",
   "execution_count": null,
   "id": "a51a818f-0997-432c-8676-b89f97a0e56f",
   "metadata": {},
   "outputs": [],
   "source": [
    "col = \n",
    "\n",
    "\n",
    "productcity\n",
    "43423Gold\n",
    "33535Copper\n",
    "43534Silver"
   ]
  },
  {
   "cell_type": "code",
   "execution_count": 9,
   "id": "ed9ae57f-5f25-47be-81b2-47d3c2a9a0ad",
   "metadata": {},
   "outputs": [],
   "source": [
    "py = '43423Gold'"
   ]
  },
  {
   "cell_type": "code",
   "execution_count": 13,
   "id": "a2e91130-20ed-4c0e-abb3-76c85da737f7",
   "metadata": {},
   "outputs": [
    {
     "data": {
      "text/plain": [
       "'Gold'"
      ]
     },
     "execution_count": 13,
     "metadata": {},
     "output_type": "execute_result"
    }
   ],
   "source": [
    "py[5:]"
   ]
  },
  {
   "cell_type": "code",
   "execution_count": 18,
   "id": "80e1ecde-dc40-4fdb-a757-da5a899dd63e",
   "metadata": {},
   "outputs": [],
   "source": [
    " p = '43242PXWFWF35345345TRTERT'"
   ]
  },
  {
   "cell_type": "code",
   "execution_count": 20,
   "id": "c0398445-797a-4e32-a984-2dab5817557b",
   "metadata": {},
   "outputs": [],
   "source": [
    "temp = []\n",
    "for i in p:\n",
    "    if str(i).isalpha():\n",
    "        temp.append(i)"
   ]
  },
  {
   "cell_type": "code",
   "execution_count": 22,
   "id": "4ce44f52-c2a9-4986-910c-00aa1b3251fc",
   "metadata": {},
   "outputs": [
    {
     "data": {
      "text/plain": [
       "['P', 'X', 'W', 'F', 'W', 'F']"
      ]
     },
     "execution_count": 22,
     "metadata": {},
     "output_type": "execute_result"
    }
   ],
   "source": [
    "temp"
   ]
  },
  {
   "cell_type": "code",
   "execution_count": 26,
   "id": "0d7057ee-afae-4d5e-b378-c4de529e1982",
   "metadata": {},
   "outputs": [
    {
     "data": {
      "text/plain": [
       "'PXWFWF'"
      ]
     },
     "execution_count": 26,
     "metadata": {},
     "output_type": "execute_result"
    }
   ],
   "source": [
    "''.join(temp)"
   ]
  },
  {
   "cell_type": "code",
   "execution_count": 28,
   "id": "cc3842dc-079b-42e5-9c49-8a4ed6fede3b",
   "metadata": {},
   "outputs": [
    {
     "data": {
      "text/plain": [
       "'PXWFWF'"
      ]
     },
     "execution_count": 28,
     "metadata": {},
     "output_type": "execute_result"
    }
   ],
   "source": [
    "p[5:11]"
   ]
  },
  {
   "cell_type": "code",
   "execution_count": null,
   "id": "0150e318-2ba9-4ce3-b64e-16dd5117992c",
   "metadata": {},
   "outputs": [],
   "source": [
    "p[start:stop-1]\n",
    "p[start:]\n",
    "p[:stop-1]\n",
    "p[:]  :start to stop"
   ]
  },
  {
   "cell_type": "code",
   "execution_count": 32,
   "id": "ae4e6ec8-9f48-4766-a20a-f37687876329",
   "metadata": {},
   "outputs": [
    {
     "data": {
      "text/plain": [
       "'PXWFWF'"
      ]
     },
     "execution_count": 32,
     "metadata": {},
     "output_type": "execute_result"
    }
   ],
   "source": [
    "p[5:11]"
   ]
  },
  {
   "cell_type": "code",
   "execution_count": 40,
   "id": "a89443b1-9178-4e3e-98d5-001ce5b4b59e",
   "metadata": {},
   "outputs": [
    {
     "data": {
      "text/plain": [
       "'43242'"
      ]
     },
     "execution_count": 40,
     "metadata": {},
     "output_type": "execute_result"
    }
   ],
   "source": [
    "p[0:5]"
   ]
  },
  {
   "cell_type": "code",
   "execution_count": 42,
   "id": "9337ac84-9dd7-4abe-8684-e3dd5efe54eb",
   "metadata": {},
   "outputs": [
    {
     "data": {
      "text/plain": [
       "'43242'"
      ]
     },
     "execution_count": 42,
     "metadata": {},
     "output_type": "execute_result"
    }
   ],
   "source": [
    "p[:5]"
   ]
  },
  {
   "cell_type": "code",
   "execution_count": 44,
   "id": "e369f252-5f00-44c9-89b4-e7a8135e146f",
   "metadata": {},
   "outputs": [
    {
     "data": {
      "text/plain": [
       "'PXWFWF35345345'"
      ]
     },
     "execution_count": 44,
     "metadata": {},
     "output_type": "execute_result"
    }
   ],
   "source": [
    "p[5:]"
   ]
  },
  {
   "cell_type": "code",
   "execution_count": 46,
   "id": "ee25ea7f-b16f-4111-a179-59639176e877",
   "metadata": {},
   "outputs": [],
   "source": [
    "p = '1L2P3F4Y5E'"
   ]
  },
  {
   "cell_type": "code",
   "execution_count": 48,
   "id": "e66e2ee1-8788-4c19-a9f8-ac5fe205b1e7",
   "metadata": {},
   "outputs": [
    {
     "data": {
      "text/plain": [
       "'1L2P3F4Y5E'"
      ]
     },
     "execution_count": 48,
     "metadata": {},
     "output_type": "execute_result"
    }
   ],
   "source": [
    "p"
   ]
  },
  {
   "cell_type": "code",
   "execution_count": 54,
   "id": "63c6c570-4567-4eba-bd45-610389121292",
   "metadata": {},
   "outputs": [
    {
     "data": {
      "text/plain": [
       "'1P4E'"
      ]
     },
     "execution_count": 54,
     "metadata": {},
     "output_type": "execute_result"
    }
   ],
   "source": [
    "p[::3]"
   ]
  },
  {
   "cell_type": "code",
   "execution_count": 67,
   "id": "ad06ecfb-6272-4a2c-ac97-2ad376f81341",
   "metadata": {},
   "outputs": [
    {
     "data": {
      "text/plain": [
       "'E5Y4F3P2L1'"
      ]
     },
     "execution_count": 67,
     "metadata": {},
     "output_type": "execute_result"
    }
   ],
   "source": [
    "p[::-1]"
   ]
  },
  {
   "cell_type": "code",
   "execution_count": null,
   "id": "0652c727-153b-4948-ac41-fd6da04ffe3e",
   "metadata": {},
   "outputs": [],
   "source": [
    "denote\n",
    "\n",
    "' ' ,\"  \" , '''  ''', \"\"\" \"\"\" "
   ]
  },
  {
   "cell_type": "code",
   "execution_count": 72,
   "id": "4453dd3a-bdce-40e2-9e3e-0a8528e380e9",
   "metadata": {},
   "outputs": [],
   "source": [
    "p = 'asds dsfnsjfwbfkjwebfjiwefbwekj fkjew gjkewb gjieg'"
   ]
  },
  {
   "cell_type": "code",
   "execution_count": 74,
   "id": "30f5d0ef-a237-42eb-844c-1c777a606ebd",
   "metadata": {},
   "outputs": [
    {
     "data": {
      "text/plain": [
       "'asds dsfnsjfwbfkjwebfjiwefbwekj fkjew gjkewb gjieg'"
      ]
     },
     "execution_count": 74,
     "metadata": {},
     "output_type": "execute_result"
    }
   ],
   "source": [
    "p"
   ]
  },
  {
   "cell_type": "code",
   "execution_count": 76,
   "id": "0b47b95d-f437-44b2-aa5b-1610b2f038b5",
   "metadata": {},
   "outputs": [],
   "source": [
    "p = \" skjfbsdkjfbdkfjbdfjk dckj wkjc wicbwekj fwekjf wkijfb wejkf  \""
   ]
  },
  {
   "cell_type": "code",
   "execution_count": 78,
   "id": "ffbf99ea-b6f4-4cce-8184-4447fe7a5808",
   "metadata": {},
   "outputs": [
    {
     "data": {
      "text/plain": [
       "' skjfbsdkjfbdkfjbdfjk dckj wkjc wicbwekj fwekjf wkijfb wejkf  '"
      ]
     },
     "execution_count": 78,
     "metadata": {},
     "output_type": "execute_result"
    }
   ],
   "source": [
    "p"
   ]
  },
  {
   "cell_type": "code",
   "execution_count": 82,
   "id": "ce134af9-f2be-4082-ac89-ee37348349f6",
   "metadata": {},
   "outputs": [],
   "source": [
    "p = \"feafeffwef ' wefwefweefkjfbkjfbadkjfbakjfbwdkjafdaf\""
   ]
  },
  {
   "cell_type": "code",
   "execution_count": 84,
   "id": "d03b3bfc-36e1-4f2b-bd4f-a5e3b7c63a3d",
   "metadata": {},
   "outputs": [
    {
     "data": {
      "text/plain": [
       "\"feafeffwef ' wefwefweefkjfbkjfbadkjfbakjfbwdkjafdaf\""
      ]
     },
     "execution_count": 84,
     "metadata": {},
     "output_type": "execute_result"
    }
   ],
   "source": [
    "p"
   ]
  },
  {
   "cell_type": "code",
   "execution_count": 88,
   "id": "c7ef8f14-8358-43e4-b978-76918504f502",
   "metadata": {},
   "outputs": [],
   "source": [
    "p = ' sdkjfnbsdkjfbsdkjf dkj cvkjdc\"afasdf\"'"
   ]
  },
  {
   "cell_type": "code",
   "execution_count": 90,
   "id": "9047add8-db41-4c70-883f-2a61457e18ef",
   "metadata": {},
   "outputs": [
    {
     "data": {
      "text/plain": [
       "' sdkjfnbsdkjfbsdkjf dkj cvkjdc\"afasdf\"'"
      ]
     },
     "execution_count": 90,
     "metadata": {},
     "output_type": "execute_result"
    }
   ],
   "source": [
    "p"
   ]
  },
  {
   "cell_type": "code",
   "execution_count": null,
   "id": "0f92e3e9-4216-4609-b124-e45aba19514b",
   "metadata": {},
   "outputs": [],
   "source": [
    "single line  --  ' ' or  \"  \" \n",
    "mutliline string  -- '''  ''' or  \"\"\"  \"\"\""
   ]
  },
  {
   "cell_type": "code",
   "execution_count": 92,
   "id": "7c351f49-4f20-45ee-a072-defa57c8aea9",
   "metadata": {},
   "outputs": [],
   "source": [
    "p = 'python'"
   ]
  },
  {
   "cell_type": "code",
   "execution_count": 94,
   "id": "867f902f-d2d3-45d2-8f23-7aab4e0c18e3",
   "metadata": {},
   "outputs": [
    {
     "data": {
      "text/plain": [
       "'PYTHON'"
      ]
     },
     "execution_count": 94,
     "metadata": {},
     "output_type": "execute_result"
    }
   ],
   "source": [
    "p.upper()"
   ]
  },
  {
   "cell_type": "code",
   "execution_count": 96,
   "id": "ffea183d-4bb9-497d-b498-407932cb285b",
   "metadata": {},
   "outputs": [],
   "source": [
    "t = 'HADOOP'"
   ]
  },
  {
   "cell_type": "code",
   "execution_count": 98,
   "id": "6c512751-dfea-41b6-bd48-1fdcac21fe5d",
   "metadata": {},
   "outputs": [
    {
     "data": {
      "text/plain": [
       "'hadoop'"
      ]
     },
     "execution_count": 98,
     "metadata": {},
     "output_type": "execute_result"
    }
   ],
   "source": [
    "t.lower()"
   ]
  },
  {
   "cell_type": "code",
   "execution_count": 100,
   "id": "f18fd4d6-2178-4e9f-b9dc-f1f413bc3c92",
   "metadata": {},
   "outputs": [],
   "source": [
    "p = 'safsafsdf'"
   ]
  },
  {
   "cell_type": "code",
   "execution_count": 105,
   "id": "0a81138b-7188-40bd-a830-d1886cd8e93d",
   "metadata": {},
   "outputs": [
    {
     "data": {
      "text/plain": [
       "'Safsafsdf'"
      ]
     },
     "execution_count": 105,
     "metadata": {},
     "output_type": "execute_result"
    }
   ],
   "source": [
    "p.capitalize()\n"
   ]
  },
  {
   "cell_type": "code",
   "execution_count": 107,
   "id": "e610a7b6-6d35-408b-80dd-3736c2ccae77",
   "metadata": {},
   "outputs": [],
   "source": [
    "p = 'the python book'"
   ]
  },
  {
   "cell_type": "code",
   "execution_count": 109,
   "id": "c5a92586-aab9-4c19-86cb-6b4eb9358b6b",
   "metadata": {},
   "outputs": [
    {
     "data": {
      "text/plain": [
       "'The Python Book'"
      ]
     },
     "execution_count": 109,
     "metadata": {},
     "output_type": "execute_result"
    }
   ],
   "source": [
    "p.title()"
   ]
  },
  {
   "cell_type": "code",
   "execution_count": 115,
   "id": "129bc782-b3a5-42b1-adf6-0a2fa46cea23",
   "metadata": {},
   "outputs": [],
   "source": [
    "p = 'TesT'"
   ]
  },
  {
   "cell_type": "code",
   "execution_count": 117,
   "id": "9b1a26b1-5dd7-4cec-a573-e5e256c563ca",
   "metadata": {},
   "outputs": [
    {
     "data": {
      "text/plain": [
       "'tESt'"
      ]
     },
     "execution_count": 117,
     "metadata": {},
     "output_type": "execute_result"
    }
   ],
   "source": [
    "p.swapcase()"
   ]
  },
  {
   "cell_type": "code",
   "execution_count": null,
   "id": "2b070478-94e2-4fca-b112-5ab8d5c915e1",
   "metadata": {},
   "outputs": [],
   "source": [
    "startswith()\n",
    "endswith()\n",
    "split()\n",
    "strip()\n",
    "find()"
   ]
  },
  {
   "cell_type": "code",
   "execution_count": null,
   "id": "09405832-2805-4b60-8aca-e819b62c3d4b",
   "metadata": {},
   "outputs": [],
   "source": [
    "startswith()"
   ]
  },
  {
   "cell_type": "code",
   "execution_count": 123,
   "id": "1164ff44-abcb-4b71-8e15-33da0e14eb2e",
   "metadata": {},
   "outputs": [],
   "source": [
    "p = 'python is strong in ML'"
   ]
  },
  {
   "cell_type": "code",
   "execution_count": 125,
   "id": "80d0016e-1d11-4dd2-a4b7-204d06ffeca1",
   "metadata": {},
   "outputs": [
    {
     "data": {
      "text/plain": [
       "True"
      ]
     },
     "execution_count": 125,
     "metadata": {},
     "output_type": "execute_result"
    }
   ],
   "source": [
    "p.startswith('python')"
   ]
  },
  {
   "cell_type": "code",
   "execution_count": 132,
   "id": "b1d0c89c-d588-4758-a8c1-9acc57922099",
   "metadata": {},
   "outputs": [
    {
     "data": {
      "text/plain": [
       "True"
      ]
     },
     "execution_count": 132,
     "metadata": {},
     "output_type": "execute_result"
    }
   ],
   "source": [
    "p.endswith('ML')"
   ]
  },
  {
   "cell_type": "code",
   "execution_count": null,
   "id": "2e41afd2-aae5-477e-9e14-34fd940657b3",
   "metadata": {},
   "outputs": [],
   "source": [
    "p.find()"
   ]
  },
  {
   "cell_type": "code",
   "execution_count": null,
   "id": "e87c7a6f-1c30-49d0-a5b2-f4e1493fdc5a",
   "metadata": {},
   "outputs": [],
   "source": [
    "if sub is found then it will return its starting index/positive index\n",
    "if sub is not found then it will return -1"
   ]
  },
  {
   "cell_type": "code",
   "execution_count": 134,
   "id": "735ccc7f-ae5a-420d-ae86-13cb2576ed95",
   "metadata": {},
   "outputs": [
    {
     "data": {
      "text/plain": [
       "'python is strong in ML'"
      ]
     },
     "execution_count": 134,
     "metadata": {},
     "output_type": "execute_result"
    }
   ],
   "source": [
    "p"
   ]
  },
  {
   "cell_type": "code",
   "execution_count": 136,
   "id": "fcb9f6b4-d404-45a5-9e5b-d436ba0437a7",
   "metadata": {},
   "outputs": [
    {
     "data": {
      "text/plain": [
       "10"
      ]
     },
     "execution_count": 136,
     "metadata": {},
     "output_type": "execute_result"
    }
   ],
   "source": [
    "p.find('strong')"
   ]
  },
  {
   "cell_type": "code",
   "execution_count": 138,
   "id": "b4776c9f-4b00-433e-b555-3ae9d23d1d82",
   "metadata": {},
   "outputs": [
    {
     "data": {
      "text/plain": [
       "-1"
      ]
     },
     "execution_count": 138,
     "metadata": {},
     "output_type": "execute_result"
    }
   ],
   "source": [
    "p.find('Data Science')"
   ]
  },
  {
   "cell_type": "code",
   "execution_count": 140,
   "id": "ff55e924-de61-471e-b98b-a9ea9af6369d",
   "metadata": {},
   "outputs": [
    {
     "data": {
      "text/plain": [
       "-1"
      ]
     },
     "execution_count": 140,
     "metadata": {},
     "output_type": "execute_result"
    }
   ],
   "source": [
    "p.find(\"sdfsdf\")"
   ]
  },
  {
   "cell_type": "code",
   "execution_count": 142,
   "id": "852566a5-6649-4194-8cd2-987ca875bec8",
   "metadata": {},
   "outputs": [
    {
     "data": {
      "text/plain": [
       "20"
      ]
     },
     "execution_count": 142,
     "metadata": {},
     "output_type": "execute_result"
    }
   ],
   "source": [
    "p.find('ML')"
   ]
  },
  {
   "cell_type": "code",
   "execution_count": null,
   "id": "3621202f-dce8-451d-91a3-9eed79b83a59",
   "metadata": {},
   "outputs": [],
   "source": [
    "positive -- index -- present\n",
    "negative -index -- not present"
   ]
  },
  {
   "cell_type": "code",
   "execution_count": null,
   "id": "fff10e6c-78aa-4b28-a1a9-933a359f4d66",
   "metadata": {},
   "outputs": [],
   "source": []
  },
  {
   "cell_type": "code",
   "execution_count": null,
   "id": "c6bfb171-c32b-40ed-a4d7-74005da672f5",
   "metadata": {},
   "outputs": [],
   "source": [
    "duplcate -- first "
   ]
  },
  {
   "cell_type": "code",
   "execution_count": 155,
   "id": "3047bf6a-b0f6-449d-ac92-5da77bc5cd90",
   "metadata": {},
   "outputs": [],
   "source": [
    "p = 'ML sdafsdf ML sdafsdf ML'"
   ]
  },
  {
   "cell_type": "code",
   "execution_count": 157,
   "id": "737171e1-aecc-48d4-be1c-ce5fdb5bdff1",
   "metadata": {},
   "outputs": [
    {
     "data": {
      "text/plain": [
       "0"
      ]
     },
     "execution_count": 157,
     "metadata": {},
     "output_type": "execute_result"
    }
   ],
   "source": [
    "p.find('ML')"
   ]
  },
  {
   "cell_type": "code",
   "execution_count": 159,
   "id": "b87eea35-6761-49e3-b007-0862fc214e29",
   "metadata": {},
   "outputs": [
    {
     "data": {
      "text/plain": [
       "3"
      ]
     },
     "execution_count": 159,
     "metadata": {},
     "output_type": "execute_result"
    }
   ],
   "source": [
    "p.count('ML')"
   ]
  },
  {
   "cell_type": "code",
   "execution_count": 163,
   "id": "6fbeee84-33fd-42bb-8a3c-5e8523383b77",
   "metadata": {},
   "outputs": [
    {
     "data": {
      "text/plain": [
       "3"
      ]
     },
     "execution_count": 163,
     "metadata": {},
     "output_type": "execute_result"
    }
   ],
   "source": [
    "p.index('s')"
   ]
  },
  {
   "cell_type": "code",
   "execution_count": 165,
   "id": "aec3daf0-0253-4fe5-8fda-650f8feca797",
   "metadata": {},
   "outputs": [],
   "source": [
    "p = 'sdfkjsnfkjsbfkjsbfhjsdfhjsadvf'"
   ]
  },
  {
   "cell_type": "code",
   "execution_count": null,
   "id": "a408392e-4db5-4cb8-b63a-0b57a67c14f2",
   "metadata": {},
   "outputs": [],
   "source": [
    "{'s':count,'d':count....}"
   ]
  },
  {
   "cell_type": "code",
   "execution_count": 167,
   "id": "8ad2dac7-00c1-400c-9bdc-9b4de5201e25",
   "metadata": {},
   "outputs": [],
   "source": [
    "p = 'sdf sdfsdf sdf sdf sdf sdf sdf sd fsd herhwe fwef '"
   ]
  },
  {
   "cell_type": "code",
   "execution_count": null,
   "id": "d8d8f6f1-6d72-47ca-9bc7-bb245661da5b",
   "metadata": {},
   "outputs": [],
   "source": [
    "str \n",
    "\n",
    "number count\n",
    "\n",
    "chars count"
   ]
  },
  {
   "cell_type": "code",
   "execution_count": null,
   "id": "b9e9f309-0397-47f3-a2e5-37ee318bac68",
   "metadata": {},
   "outputs": [],
   "source": [
    "custom code"
   ]
  },
  {
   "cell_type": "code",
   "execution_count": 174,
   "id": "241d508f-3615-407f-aa3f-8eda8c0bda75",
   "metadata": {},
   "outputs": [],
   "source": [
    "p = 'UHC-4646-56456456'"
   ]
  },
  {
   "cell_type": "code",
   "execution_count": 176,
   "id": "7e1ae194-ff66-402d-842d-d886aa37a7fa",
   "metadata": {},
   "outputs": [
    {
     "data": {
      "text/plain": [
       "'UHC-4646-56456456'"
      ]
     },
     "execution_count": 176,
     "metadata": {},
     "output_type": "execute_result"
    }
   ],
   "source": [
    "p"
   ]
  },
  {
   "cell_type": "code",
   "execution_count": 180,
   "id": "4953056d-2108-40c2-8432-294a9ae8bdc6",
   "metadata": {},
   "outputs": [
    {
     "data": {
      "text/plain": [
       "'4646'"
      ]
     },
     "execution_count": 180,
     "metadata": {},
     "output_type": "execute_result"
    }
   ],
   "source": [
    "p.split('-')[1]"
   ]
  },
  {
   "cell_type": "code",
   "execution_count": 182,
   "id": "f985b705-ba17-4537-91d2-089be83e12d6",
   "metadata": {},
   "outputs": [],
   "source": [
    "p = 'the python use for ML and DL'"
   ]
  },
  {
   "cell_type": "code",
   "execution_count": 186,
   "id": "ba6a252b-9cca-45ed-aba4-5d140fa161d8",
   "metadata": {},
   "outputs": [
    {
     "data": {
      "text/plain": [
       "['the python ', ' for ML and DL']"
      ]
     },
     "execution_count": 186,
     "metadata": {},
     "output_type": "execute_result"
    }
   ],
   "source": [
    "p.split('use')"
   ]
  },
  {
   "cell_type": "code",
   "execution_count": 190,
   "id": "94af5406-357b-4b09-b236-93bed9a0ab77",
   "metadata": {},
   "outputs": [
    {
     "data": {
      "text/plain": [
       "'DL'"
      ]
     },
     "execution_count": 190,
     "metadata": {},
     "output_type": "execute_result"
    }
   ],
   "source": [
    "p.split()[-1]"
   ]
  },
  {
   "cell_type": "code",
   "execution_count": 194,
   "id": "ac6a3e57-9ddd-4628-be95-e74d015e9b88",
   "metadata": {},
   "outputs": [],
   "source": [
    "#strip() # to remove white spaces"
   ]
  },
  {
   "cell_type": "code",
   "execution_count": 196,
   "id": "b550d585-ae97-46c9-869a-0c6015031c66",
   "metadata": {},
   "outputs": [],
   "source": [
    "p = '    asddfsdf       '"
   ]
  },
  {
   "cell_type": "code",
   "execution_count": 202,
   "id": "7fa732fa-dbd8-4e83-ab11-85b4661d9dc3",
   "metadata": {},
   "outputs": [],
   "source": [
    "usename = ' admin '"
   ]
  },
  {
   "cell_type": "code",
   "execution_count": 204,
   "id": "4c18263f-0007-4f4a-88b5-803aefbc1f88",
   "metadata": {},
   "outputs": [],
   "source": [
    "u = 'admin'"
   ]
  },
  {
   "cell_type": "code",
   "execution_count": 206,
   "id": "09393ac7-aa22-4279-8963-c068a50e4673",
   "metadata": {},
   "outputs": [
    {
     "data": {
      "text/plain": [
       "False"
      ]
     },
     "execution_count": 206,
     "metadata": {},
     "output_type": "execute_result"
    }
   ],
   "source": [
    "usename == u"
   ]
  },
  {
   "cell_type": "code",
   "execution_count": 208,
   "id": "9770d27c-29b7-4c98-99bd-7cc8ae8cd72c",
   "metadata": {},
   "outputs": [
    {
     "data": {
      "text/plain": [
       "'admin'"
      ]
     },
     "execution_count": 208,
     "metadata": {},
     "output_type": "execute_result"
    }
   ],
   "source": [
    "usename.strip()"
   ]
  },
  {
   "cell_type": "code",
   "execution_count": 210,
   "id": "773ba2f3-4759-48ff-9d5a-4ff7a4572e3a",
   "metadata": {},
   "outputs": [],
   "source": [
    "p = 'python@java@hadoop'"
   ]
  },
  {
   "cell_type": "code",
   "execution_count": 220,
   "id": "b1cc2cea-853a-42a4-8df6-68f5088f94d6",
   "metadata": {},
   "outputs": [
    {
     "data": {
      "text/plain": [
       "'hadoop'"
      ]
     },
     "execution_count": 220,
     "metadata": {},
     "output_type": "execute_result"
    }
   ],
   "source": [
    "p.split('@')[2]"
   ]
  },
  {
   "cell_type": "code",
   "execution_count": 222,
   "id": "f5325af9-4bc8-46db-8148-9502db13e514",
   "metadata": {},
   "outputs": [
    {
     "data": {
      "text/plain": [
       "'python@java@hadoop'"
      ]
     },
     "execution_count": 222,
     "metadata": {},
     "output_type": "execute_result"
    }
   ],
   "source": [
    "p"
   ]
  },
  {
   "cell_type": "code",
   "execution_count": 224,
   "id": "33703907-1a01-4e5f-8945-4fc9b63871fe",
   "metadata": {},
   "outputs": [
    {
     "data": {
      "text/plain": [
       "'python@ml@hadoop'"
      ]
     },
     "execution_count": 224,
     "metadata": {},
     "output_type": "execute_result"
    }
   ],
   "source": [
    "p.replace('java','ml')"
   ]
  },
  {
   "cell_type": "code",
   "execution_count": 229,
   "id": "6ef0ee01-2385-4fed-8d22-d4460df94a18",
   "metadata": {},
   "outputs": [
    {
     "data": {
      "text/plain": [
       "'python@java@hadoop'"
      ]
     },
     "execution_count": 229,
     "metadata": {},
     "output_type": "execute_result"
    }
   ],
   "source": [
    "p"
   ]
  },
  {
   "cell_type": "code",
   "execution_count": 231,
   "id": "70d2e868-6eb2-4b8f-b21f-0020c021aa78",
   "metadata": {},
   "outputs": [
    {
     "data": {
      "text/plain": [
       "['python', 'java', 'hadoop']"
      ]
     },
     "execution_count": 231,
     "metadata": {},
     "output_type": "execute_result"
    }
   ],
   "source": [
    "p.split('@')"
   ]
  },
  {
   "cell_type": "code",
   "execution_count": 233,
   "id": "8e7e7ff7-3476-4dac-a2da-6c3e76372351",
   "metadata": {},
   "outputs": [
    {
     "data": {
      "text/plain": [
       "'pythonjavahadoop'"
      ]
     },
     "execution_count": 233,
     "metadata": {},
     "output_type": "execute_result"
    }
   ],
   "source": [
    "''.join(p.split('@')) "
   ]
  },
  {
   "cell_type": "code",
   "execution_count": 235,
   "id": "4e96d90c-c56e-48de-8942-c3621fc0ff17",
   "metadata": {},
   "outputs": [],
   "source": [
    "t1 = ['ml','dgfdgds','dsfsdg']"
   ]
  },
  {
   "cell_type": "code",
   "execution_count": 237,
   "id": "1a44ceb5-f04e-41b3-81ad-3acf8d44137d",
   "metadata": {},
   "outputs": [
    {
     "data": {
      "text/plain": [
       "'ml#dgfdgds#dsfsdg'"
      ]
     },
     "execution_count": 237,
     "metadata": {},
     "output_type": "execute_result"
    }
   ],
   "source": [
    "'#'.join(t1)"
   ]
  },
  {
   "cell_type": "code",
   "execution_count": null,
   "id": "b0d02c76-1419-4cc1-8d93-17e896960c9c",
   "metadata": {},
   "outputs": [],
   "source": [
    "format "
   ]
  },
  {
   "cell_type": "code",
   "execution_count": null,
   "id": "6e2fe43c-2046-4bcf-a5ab-75ed349c634f",
   "metadata": {},
   "outputs": [],
   "source": [
    "str  --- data insert"
   ]
  },
  {
   "cell_type": "code",
   "execution_count": 249,
   "id": "a5e3637f-c14d-462f-bb50-4becdc0052d8",
   "metadata": {},
   "outputs": [],
   "source": [
    "file =  'copper_{}'.format('25.10.2024')"
   ]
  },
  {
   "cell_type": "code",
   "execution_count": 251,
   "id": "60a4f2d4-135b-4379-a468-de966158b05a",
   "metadata": {},
   "outputs": [
    {
     "data": {
      "text/plain": [
       "'copper_25.10.2024'"
      ]
     },
     "execution_count": 251,
     "metadata": {},
     "output_type": "execute_result"
    }
   ],
   "source": [
    "file"
   ]
  },
  {
   "cell_type": "code",
   "execution_count": 255,
   "id": "97bc28c1-fc93-48d0-82be-a841ec8d9d78",
   "metadata": {},
   "outputs": [],
   "source": [
    "a = 10\n",
    "b = 20\n",
    "c = a+b"
   ]
  },
  {
   "cell_type": "code",
   "execution_count": 257,
   "id": "7a66230f-1e68-43a3-8e88-49d37578716d",
   "metadata": {},
   "outputs": [
    {
     "data": {
      "text/plain": [
       "' addition of 10 and 20 is 30'"
      ]
     },
     "execution_count": 257,
     "metadata": {},
     "output_type": "execute_result"
    }
   ],
   "source": [
    "\" addition of {} and {} is {}\".format(a,b,c)"
   ]
  },
  {
   "cell_type": "code",
   "execution_count": 259,
   "id": "a7e8abdb-5241-424e-80b2-e0905941cbe8",
   "metadata": {},
   "outputs": [
    {
     "data": {
      "text/plain": [
       "' addition of 10 and 20 is 30'"
      ]
     },
     "execution_count": 259,
     "metadata": {},
     "output_type": "execute_result"
    }
   ],
   "source": [
    "f\" addition of {a} and {b} is {c}\""
   ]
  },
  {
   "cell_type": "code",
   "execution_count": null,
   "id": "339eb931-4449-4820-a4e6-cd7beecb15a2",
   "metadata": {},
   "outputs": [],
   "source": [
    "content \n",
    "\n",
    "number -- num\n",
    "string\n",
    "num+str"
   ]
  },
  {
   "cell_type": "code",
   "execution_count": null,
   "id": "3be007cf-b8a2-49c1-ab7b-cfb87a0551d2",
   "metadata": {},
   "outputs": [],
   "source": [
    "'copper' -- alpha\n",
    "\n",
    "'43543534' -- numberic\n",
    "\n",
    "'copper3446436' - al+num"
   ]
  },
  {
   "cell_type": "code",
   "execution_count": 265,
   "id": "edb9a6d0-0509-4f33-811c-240bb57fb114",
   "metadata": {},
   "outputs": [],
   "source": [
    "file  = 'safsdfd'"
   ]
  },
  {
   "cell_type": "code",
   "execution_count": 267,
   "id": "8bad31c4-0a42-4341-b6a7-988a0934f697",
   "metadata": {},
   "outputs": [
    {
     "data": {
      "text/plain": [
       "True"
      ]
     },
     "execution_count": 267,
     "metadata": {},
     "output_type": "execute_result"
    }
   ],
   "source": [
    "file.isalpha()"
   ]
  },
  {
   "cell_type": "code",
   "execution_count": 269,
   "id": "335c021b-bf3e-46a5-bad0-9a19308bc528",
   "metadata": {},
   "outputs": [],
   "source": [
    "p = '54646346'"
   ]
  },
  {
   "cell_type": "code",
   "execution_count": 271,
   "id": "25b369bc-2ebe-4435-a420-53efff86ecdd",
   "metadata": {},
   "outputs": [
    {
     "data": {
      "text/plain": [
       "True"
      ]
     },
     "execution_count": 271,
     "metadata": {},
     "output_type": "execute_result"
    }
   ],
   "source": [
    "p.isnumeric()"
   ]
  },
  {
   "cell_type": "code",
   "execution_count": 273,
   "id": "32dc4980-1442-473a-93e0-d9db0cf3840f",
   "metadata": {},
   "outputs": [],
   "source": [
    "p = 'sdfsf454543'"
   ]
  },
  {
   "cell_type": "code",
   "execution_count": 275,
   "id": "08159041-59da-4932-a7a5-621b625634d3",
   "metadata": {},
   "outputs": [
    {
     "data": {
      "text/plain": [
       "True"
      ]
     },
     "execution_count": 275,
     "metadata": {},
     "output_type": "execute_result"
    }
   ],
   "source": [
    "p.isalnum()"
   ]
  },
  {
   "cell_type": "code",
   "execution_count": null,
   "id": "ed2c7f12-0196-4489-832f-89e19fc4e9e9",
   "metadata": {},
   "outputs": [],
   "source": [
    "slicing\n",
    "count\n",
    "duplicate   --\n",
    "AEIOU - wovels\n",
    "palindrom\n",
    "special chars"
   ]
  },
  {
   "cell_type": "code",
   "execution_count": 277,
   "id": "e29ff13d-8645-4ef3-a454-3d4a8fc78afe",
   "metadata": {},
   "outputs": [],
   "source": [
    "p = 'kadak'\n",
    "\n",
    "k,a"
   ]
  },
  {
   "cell_type": "code",
   "execution_count": null,
   "id": "69bdd6a2-b275-496b-bb3a-260543df2fba",
   "metadata": {},
   "outputs": [],
   "source": [
    "drive complete python Assigment "
   ]
  },
  {
   "cell_type": "code",
   "execution_count": null,
   "id": "56ca0bac-89de-485a-a091-7507e1139ca6",
   "metadata": {},
   "outputs": [],
   "source": []
  },
  {
   "cell_type": "code",
   "execution_count": null,
   "id": "bd5eef00-7d56-4ba8-9a3c-49dba97901f5",
   "metadata": {},
   "outputs": [],
   "source": []
  },
  {
   "cell_type": "code",
   "execution_count": null,
   "id": "cbebbc0f-6b5a-4433-8dc5-a9195a4cb13d",
   "metadata": {},
   "outputs": [],
   "source": []
  }
 ],
 "metadata": {
  "kernelspec": {
   "display_name": "Python 3 (ipykernel)",
   "language": "python",
   "name": "python3"
  },
  "language_info": {
   "codemirror_mode": {
    "name": "ipython",
    "version": 3
   },
   "file_extension": ".py",
   "mimetype": "text/x-python",
   "name": "python",
   "nbconvert_exporter": "python",
   "pygments_lexer": "ipython3",
   "version": "3.12.4"
  }
 },
 "nbformat": 4,
 "nbformat_minor": 5
}
