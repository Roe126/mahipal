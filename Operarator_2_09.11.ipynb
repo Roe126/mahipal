{
 "cells": [
  {
   "cell_type": "code",
   "execution_count": null,
   "id": "9482dac0-0958-4099-a304-be6190b68b30",
   "metadata": {},
   "outputs": [],
   "source": [
    "Bitwise Operator\n",
    "\n",
    "1. & - bitwise and \n",
    "2. | - bitwise or"
   ]
  },
  {
   "cell_type": "code",
   "execution_count": 1,
   "id": "6753f430-6ac3-4306-85b4-12797afc399e",
   "metadata": {},
   "outputs": [
    {
     "data": {
      "text/plain": [
       "32"
      ]
     },
     "execution_count": 1,
     "metadata": {},
     "output_type": "execute_result"
    }
   ],
   "source": [
    "45 & 34"
   ]
  },
  {
   "cell_type": "code",
   "execution_count": null,
   "id": "ca061b0f-f55c-4172-9b98-5c903aa7ddf0",
   "metadata": {},
   "outputs": [],
   "source": [
    "45   --> "
   ]
  },
  {
   "cell_type": "code",
   "execution_count": 3,
   "id": "00f4d701-0053-433a-819d-aa3a64fe1aae",
   "metadata": {},
   "outputs": [
    {
     "data": {
      "text/plain": [
       "'0b101101'"
      ]
     },
     "execution_count": 3,
     "metadata": {},
     "output_type": "execute_result"
    }
   ],
   "source": [
    "bin(45)"
   ]
  },
  {
   "cell_type": "code",
   "execution_count": 5,
   "id": "dd7cae19-1d88-4f10-acdb-26290fc8d49a",
   "metadata": {},
   "outputs": [
    {
     "data": {
      "text/plain": [
       "45"
      ]
     },
     "execution_count": 5,
     "metadata": {},
     "output_type": "execute_result"
    }
   ],
   "source": [
    "int('0b101101',2)"
   ]
  },
  {
   "cell_type": "code",
   "execution_count": 9,
   "id": "27bfa4fa-2dfa-478a-9e7b-808e99d85bca",
   "metadata": {},
   "outputs": [
    {
     "data": {
      "text/plain": [
       "15"
      ]
     },
     "execution_count": 9,
     "metadata": {},
     "output_type": "execute_result"
    }
   ],
   "source": [
    "int('0b1111',2)"
   ]
  },
  {
   "cell_type": "code",
   "execution_count": 11,
   "id": "dc280dc7-a81a-4082-ac2e-6237ad1dbf87",
   "metadata": {},
   "outputs": [
    {
     "data": {
      "text/plain": [
       "23"
      ]
     },
     "execution_count": 11,
     "metadata": {},
     "output_type": "execute_result"
    }
   ],
   "source": [
    "23 | 16"
   ]
  },
  {
   "cell_type": "code",
   "execution_count": 13,
   "id": "e3287ca6-10f9-40a7-926b-7c9391caa48f",
   "metadata": {},
   "outputs": [
    {
     "data": {
      "text/plain": [
       "63"
      ]
     },
     "execution_count": 13,
     "metadata": {},
     "output_type": "execute_result"
    }
   ],
   "source": [
    "45 | 50"
   ]
  },
  {
   "cell_type": "code",
   "execution_count": null,
   "id": "15d61628-cd32-435b-9830-1ebfae40e3e1",
   "metadata": {},
   "outputs": [],
   "source": [
    "10111011101010110111\n",
    "10101110100111011110\n",
    "11110101001001101010"
   ]
  },
  {
   "cell_type": "code",
   "execution_count": null,
   "id": "2905b7a5-db60-48ac-9ef6-d7f1beaf8520",
   "metadata": {},
   "outputs": [],
   "source": [
    "Meta Data Sheet \n",
    "\n",
    "first 4 bit -- date\n",
    "next 4 bit -- time\n",
    "engine number \n",
    "8 --> sensor id"
   ]
  },
  {
   "cell_type": "code",
   "execution_count": 15,
   "id": "292a1011-e4ef-4f78-af00-43002d39ce14",
   "metadata": {},
   "outputs": [
    {
     "data": {
      "text/plain": [
       "11"
      ]
     },
     "execution_count": 15,
     "metadata": {},
     "output_type": "execute_result"
    }
   ],
   "source": [
    "int('0b1011',2)"
   ]
  },
  {
   "cell_type": "code",
   "execution_count": null,
   "id": "0f5e135a-0354-4df5-9113-23322ff1d09b",
   "metadata": {},
   "outputs": [],
   "source": [
    "Assigment:\n",
    "decimal to bin\n",
    "bin to decimal"
   ]
  },
  {
   "cell_type": "code",
   "execution_count": null,
   "id": "d374678a-3d0b-40fd-9bcb-756154e2ea04",
   "metadata": {},
   "outputs": [],
   "source": [
    "lambda expression : ternary operator"
   ]
  }
 ],
 "metadata": {
  "kernelspec": {
   "display_name": "Python 3 (ipykernel)",
   "language": "python",
   "name": "python3"
  },
  "language_info": {
   "codemirror_mode": {
    "name": "ipython",
    "version": 3
   },
   "file_extension": ".py",
   "mimetype": "text/x-python",
   "name": "python",
   "nbconvert_exporter": "python",
   "pygments_lexer": "ipython3",
   "version": "3.12.4"
  }
 },
 "nbformat": 4,
 "nbformat_minor": 5
}
